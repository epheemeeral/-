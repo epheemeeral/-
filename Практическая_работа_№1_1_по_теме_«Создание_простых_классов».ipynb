{
  "nbformat": 4,
  "nbformat_minor": 0,
  "metadata": {
    "colab": {
      "provenance": [],
      "authorship_tag": "ABX9TyNJJRr0JOsB+sd+V2OT56v9",
      "include_colab_link": true
    },
    "kernelspec": {
      "name": "python3",
      "display_name": "Python 3"
    },
    "language_info": {
      "name": "python"
    }
  },
  "cells": [
    {
      "cell_type": "markdown",
      "metadata": {
        "id": "view-in-github",
        "colab_type": "text"
      },
      "source": [
        "<a href=\"https://colab.research.google.com/github/epheemeeral/-/blob/main/%D0%9F%D1%80%D0%B0%D0%BA%D1%82%D0%B8%D1%87%D0%B5%D1%81%D0%BA%D0%B0%D1%8F_%D1%80%D0%B0%D0%B1%D0%BE%D1%82%D0%B0_%E2%84%961_1_%D0%BF%D0%BE_%D1%82%D0%B5%D0%BC%D0%B5_%C2%AB%D0%A1%D0%BE%D0%B7%D0%B4%D0%B0%D0%BD%D0%B8%D0%B5_%D0%BF%D1%80%D0%BE%D1%81%D1%82%D1%8B%D1%85_%D0%BA%D0%BB%D0%B0%D1%81%D1%81%D0%BE%D0%B2%C2%BB.ipynb\" target=\"_parent\"><img src=\"https://colab.research.google.com/assets/colab-badge.svg\" alt=\"Open In Colab\"/></a>"
      ]
    },
    {
      "cell_type": "markdown",
      "source": [
        "#1.1 \n",
        "В рамках приложения создать класс А с полями а и b и свойством с. Свойство\n",
        "– значение выражения над полями а и b (выражение и типы полей – см. вариант в таблице 2.1). Поля инициализировать при объявлении класса. Конструктор оставить по умолчанию. Проследить, чтобы поля а и b напрямую в других классах были недоступны. Создать класс Programm с одним методом – точкой входа. В теле метода создать объект класса А, вывести на экран значение свойства с.\n",
        "#Вариант 20\n",
        "int - тип полей а, b    \n",
        "\n",
        "*=,+ - выражения"
      ],
      "metadata": {
        "id": "NvIOBs1FScGp"
      }
    },
    {
      "cell_type": "code",
      "source": [
        "class A():\n",
        "    __a = int() \n",
        "    __b = int() \n",
        "\n",
        "    def __init__ (self, a, b): #Динамические поля\n",
        "        self.a = a\n",
        "        self.b = b\n",
        "    \n",
        "    def addition(self):\n",
        "        return self.a + self.b\n",
        "\n",
        "    def multiplication(self):\n",
        "        self.a *= self.b\n",
        "        return self.a\n",
        "\n",
        "x = A(10, 3)\n",
        "x.addition()"
      ],
      "metadata": {
        "colab": {
          "base_uri": "https://localhost:8080/"
        },
        "id": "14R2ma_FSzX-",
        "outputId": "8391bf2a-da4f-43b8-a61c-1660412411d3"
      },
      "execution_count": 40,
      "outputs": [
        {
          "output_type": "execute_result",
          "data": {
            "text/plain": [
              "13"
            ]
          },
          "metadata": {},
          "execution_count": 40
        }
      ]
    },
    {
      "cell_type": "code",
      "source": [
        "x.multiplication()"
      ],
      "metadata": {
        "colab": {
          "base_uri": "https://localhost:8080/"
        },
        "id": "gJHdlakUXgXL",
        "outputId": "919a374f-9ed4-4fdc-cb49-08bf5865a01d"
      },
      "execution_count": 41,
      "outputs": [
        {
          "output_type": "execute_result",
          "data": {
            "text/plain": [
              "30"
            ]
          },
          "metadata": {},
          "execution_count": 41
        }
      ]
    },
    {
      "cell_type": "code",
      "source": [
        "class Program():\n",
        "\n",
        "    def __init__(self):\n",
        "        x1 = A(10, 3)\n",
        "        print(x1.addition())\n",
        "        print(x1.multiplication())\n",
        "\n",
        "if __name__ == \"__main__\":\n",
        "    f1 = Program()\n",
        "    del f1"
      ],
      "metadata": {
        "colab": {
          "base_uri": "https://localhost:8080/"
        },
        "id": "714jjvHfbvVb",
        "outputId": "310a2964-9ffe-4f6f-efa8-b32b5a44a094"
      },
      "execution_count": 42,
      "outputs": [
        {
          "output_type": "stream",
          "name": "stdout",
          "text": [
            "13\n",
            "30\n"
          ]
        }
      ]
    }
  ]
}