{
  "nbformat": 4,
  "nbformat_minor": 0,
  "metadata": {
    "colab": {
      "provenance": [],
      "authorship_tag": "ABX9TyNK4KMc31wrpC1Ig6ZFLitg",
      "include_colab_link": true
    },
    "kernelspec": {
      "name": "python3",
      "display_name": "Python 3"
    },
    "language_info": {
      "name": "python"
    }
  },
  "cells": [
    {
      "cell_type": "markdown",
      "metadata": {
        "id": "view-in-github",
        "colab_type": "text"
      },
      "source": [
        "<a href=\"https://colab.research.google.com/github/epheemeeral/-/blob/main/%D0%BB%D0%B5%D0%BA%D1%86%D0%B8%D1%8F_2.ipynb\" target=\"_parent\"><img src=\"https://colab.research.google.com/assets/colab-badge.svg\" alt=\"Open In Colab\"/></a>"
      ]
    },
    {
      "cell_type": "markdown",
      "source": [
        "#Парадигмы ООП. Наследования"
      ],
      "metadata": {
        "id": "P3DEIO0nHW5f"
      }
    },
    {
      "cell_type": "markdown",
      "source": [
        "#Пример построения иерархии классов"
      ],
      "metadata": {
        "id": "jy_2az8cICkH"
      }
    },
    {
      "cell_type": "code",
      "source": [
        "class Person:\n",
        "  def __init__(self, nаmе='Человек без имени'):\n",
        "    self.nаmе = nаmе\n",
        "    self.age = 0\n",
        "  def say(self):\n",
        "    print(\"{0} говорит\".format(self.nаmе))\n",
        "# Person - родительский класс\n",
        "\n",
        "class Employee(Person):\n",
        "  def set_job(self, job_title='Безработный'):\n",
        "    self.job_title = job_title\n",
        "  def get_job(self):\n",
        "    print(self.job_title)\n",
        "\n",
        "class Customer(Person):\n",
        "  def set_email(self, email='Heт почты'):\n",
        "    self.email = email\n",
        "  def get_email(self):\n",
        "    print(self.email)\n",
        "\n",
        "# создаем человека с именем 'Петр':\n",
        "person = Person('Петр')\n",
        "# просим человека что-нибудь сказать:\n",
        "person.say()\n",
        "# создаем работника без имени:\n",
        "emp = Employee()\n",
        "emp.say() # метод наследовался из класса Person\n",
        "# хотим, чтобы в момент создания Employee\n",
        "# заполнялась должность\n",
        "cust = Customer('Елена')\n",
        "cust.say()\n",
        "# метод наследовался из класса Person\n",
        "# хотим, чтобы в момент создания Customer\n",
        "# заполнялась почта"
      ],
      "metadata": {
        "colab": {
          "base_uri": "https://localhost:8080/"
        },
        "id": "0XJDUrF0HYVt",
        "outputId": "d5e61bf5-687a-461a-afa6-7c97a99b2006"
      },
      "execution_count": 2,
      "outputs": [
        {
          "output_type": "stream",
          "name": "stdout",
          "text": [
            "Петр говорит\n",
            "Человек без имени говорит\n",
            "Елена говорит\n"
          ]
        }
      ]
    },
    {
      "cell_type": "markdown",
      "source": [
        "#В примере по умолчанию наследуется конструктор базового класса Person, но в нем не определяются атрибуты дочерних классов. Исправим ситуацию путем переопределения конструктора в дочерних классах на представленном ниже примере."
      ],
      "metadata": {
        "id": "xgOIARqGImxf"
      }
    },
    {
      "cell_type": "code",
      "source": [
        "class Person:\n",
        "  def __init__(self, name='Человек без имени'):\n",
        "    self.name = name\n",
        "    self.age = 0\n",
        "  def say(self):\n",
        "    print(\"{0} говорит\".format(self.name))\n",
        "\n",
        "class Employee(Person):\n",
        "# переопределяем конструктор:\n",
        "  def __init__(self, name):\n",
        "# вызываем конструктор базового класса:\n",
        "    Person.__init__(self)\n",
        "# определяем атрибут по умолчанию:\n",
        "    self.job_title = 'Безработный'\n",
        "  def set_job(self, job_title='Безработный'):\n",
        "    self.job_title = job_title\n",
        "  def get_job(self):\n",
        "    print(self.name, self.job_title)\n",
        "  \n",
        "class Customer(Person):\n",
        "  def __init__(self, name):\n",
        "    Person.__init__(self)\n",
        "    self.email = 'Нет почты'\n",
        "  def set_email(self, email='Нет почты'):\n",
        "    self.email = email\n",
        "  def get_email(self):\n",
        "    print(self.name, self.email)\n",
        "\n",
        "person = Person('Иван')\n",
        "person.say()\n",
        "emp = Employee('Игорь')\n",
        "emp.say()\n",
        "emp.get_job()\n",
        "cust = Customer('Петр')\n",
        "cust.say()\n",
        "cust.get_email()"
      ],
      "metadata": {
        "colab": {
          "base_uri": "https://localhost:8080/"
        },
        "id": "2QlPf8FrIoNZ",
        "outputId": "932b06be-9b13-4f6d-81a8-f39b39c4f4b9"
      },
      "execution_count": 4,
      "outputs": [
        {
          "output_type": "stream",
          "name": "stdout",
          "text": [
            "Иван говорит\n",
            "Человек без имени говорит\n",
            "Человек без имени Безработный\n",
            "Человек без имени говорит\n",
            "Человек без имени Нет почты\n"
          ]
        }
      ]
    },
    {
      "cell_type": "markdown",
      "source": [
        "#Язык Python поддерживает множественное наследование, то есть у одного класса-потомка, может быть, несколько родительских классов"
      ],
      "metadata": {
        "id": "-F2x_pu_JXkZ"
      }
    },
    {
      "cell_type": "code",
      "source": [
        "class A:\n",
        "  def some_function(self):\n",
        "      print(\"First function\")\n",
        "  def other_function(self):\n",
        "        print(\"Second function\")\n",
        "class B:\n",
        "  def method_in_B(self):\n",
        "      print(\"Third function\")\n",
        "\n",
        "class C(A):\n",
        "  def other_function(self):\n",
        "      print(\"Replaced function\")\n",
        "\n",
        "class D(B, C):\n",
        "    pass\n",
        "\n",
        "# Посмотрим все атрибуты класса, не являющиеся служебными\n",
        "print(\"A:\\t\", list(filter(lambda x: \"__\" not in x, dir(A))))\n",
        "print(\"B:\\t\", list(filter(lambda x: \"__\" not in x, dir(B))))\n",
        "print(\"C(A):\\t\", list(filter(lambda x: \"__\" not in x,\n",
        "dir(C))))\n",
        "print(\"D(B,C):\\t\", list(filter(lambda x: \"__\" not in x,\n",
        "dir(D))))\n",
        "print()\n",
        "# Посмотрим на реализацию функции в D\n",
        "d = D()\n",
        "d.method_in_B()\n",
        "d.some_function()\n",
        "d.other_function()\n",
        "print()"
      ],
      "metadata": {
        "colab": {
          "base_uri": "https://localhost:8080/"
        },
        "id": "f665G5rPJdfl",
        "outputId": "83568356-7d16-49f7-a378-faf276f4f747"
      },
      "execution_count": 5,
      "outputs": [
        {
          "output_type": "stream",
          "name": "stdout",
          "text": [
            "A:\t ['other_function', 'some_function']\n",
            "B:\t ['method_in_B']\n",
            "C(A):\t ['other_function', 'some_function']\n",
            "D(B,C):\t ['method_in_B', 'other_function', 'some_function']\n",
            "\n",
            "Third function\n",
            "First function\n",
            "Replaced function\n",
            "\n"
          ]
        }
      ]
    },
    {
      "cell_type": "markdown",
      "source": [
        "#Класс-потомок наследует методы и переменные, определенные в родительском классе"
      ],
      "metadata": {
        "id": "f2OqiYQSJ8vb"
      }
    },
    {
      "cell_type": "code",
      "source": [
        "class A: \n",
        "  var_A = 1\n",
        "  def method_A(self): \n",
        "    print(\"A\")\n",
        "\n",
        "class B(A): \n",
        "  var_B = 2\n",
        "  def method_B(self):\n",
        "    print(\"B\")\n",
        "\n",
        "class C(B): \n",
        "  var_C = 3\n",
        "  def method_C(self):\n",
        "    print(\"C\")\n",
        "\n",
        "print(\"A:\\t\", list(filter(lambda x: \"__\" not in x, dir(A))))\n",
        "print(\"B(A):\\t\", list(filter(lambda x: \"__\" not in x, dir(B))))\n",
        "print(\"C(B):\\t\", list(filter(lambda x: \"__\" not in x, dir(C))))\n",
        "print()"
      ],
      "metadata": {
        "colab": {
          "base_uri": "https://localhost:8080/"
        },
        "id": "sAnSew6YJ99E",
        "outputId": "a681b7e7-5a1c-4fdb-820c-f5afb46dac35"
      },
      "execution_count": 11,
      "outputs": [
        {
          "output_type": "stream",
          "name": "stdout",
          "text": [
            "A:\t ['method_A', 'var_A']\n",
            "B(A):\t ['method_A', 'method_B', 'var_A', 'var_B']\n",
            "C(B):\t ['method_A', 'method_B', 'method_C', 'var_A', 'var_B', 'var_C']\n",
            "\n"
          ]
        }
      ]
    },
    {
      "cell_type": "markdown",
      "source": [
        "#При наследовании класс-потомок может переопределять методы и переменные родительского класса"
      ],
      "metadata": {
        "id": "5AWIF5UbKqt2"
      }
    },
    {
      "cell_type": "code",
      "source": [
        "class A:\n",
        "    value = 13\n",
        "    def some_method(self):\n",
        "        print(f\"Method in A, value = {self.value}\")\n",
        "\n",
        "class B(A):\n",
        "    def some_method(self):\n",
        "        print(f\"Method in B, value = {self.value}\")\n",
        "\n",
        "class C(B):\n",
        "    value = 6\n",
        "    def some_method(self):\n",
        "        print(f\"Method in C, value = {self.value}\")\n",
        "        \n",
        "A().some_method()\n",
        "B().some_method()\n",
        "C().some_method()\n",
        "print()"
      ],
      "metadata": {
        "colab": {
          "base_uri": "https://localhost:8080/"
        },
        "id": "8hilXbfwKs4Y",
        "outputId": "7fd76bac-a522-40da-d7fc-d4b133b73a3d"
      },
      "execution_count": 12,
      "outputs": [
        {
          "output_type": "stream",
          "name": "stdout",
          "text": [
            "Method in A, value = 13\n",
            "Method in B, value = 13\n",
            "Method in C, value = 6\n",
            "\n"
          ]
        }
      ]
    },
    {
      "cell_type": "markdown",
      "source": [
        "#Множественное наследование позволяет получить доступ к атрибутам нескольких родительских классов"
      ],
      "metadata": {
        "id": "a6VM9gFcK89J"
      }
    },
    {
      "cell_type": "code",
      "source": [
        "class A:\n",
        "    def some_function(self):\n",
        "        print(\"First function\")\n",
        "    def other_function(self):\n",
        "        print(\"Second function\")\n",
        "\n",
        "class B:\n",
        "    def method_in_B(self):\n",
        "        print(\"Third function\")\n",
        "\n",
        "class С(A, B):\n",
        "    pass\n",
        "\n",
        "# Посмотрим все атрибуты класса, не являющиеся служебными\n",
        "print(\"A:\\t\", list(filter(lambda x: \"__\" not in x,\n",
        "dir(A))))\n",
        "print(\"B:\\t\", list(filter(lambda x: \"__\" not in x,\n",
        "dir(B))))\n",
        "print(\"С(A,B):\\t\", list(filter(lambda x: \"__\" not in x, dir(С))))\n",
        "print()"
      ],
      "metadata": {
        "colab": {
          "base_uri": "https://localhost:8080/"
        },
        "id": "Hd6QUwmOK-sD",
        "outputId": "3d2682df-6bc0-4e5a-f9de-bec6bc00ff74"
      },
      "execution_count": 13,
      "outputs": [
        {
          "output_type": "stream",
          "name": "stdout",
          "text": [
            "A:\t ['other_function', 'some_function']\n",
            "B:\t ['method_in_B']\n",
            "С(A,B):\t ['method_in_B', 'other_function', 'some_function']\n",
            "\n"
          ]
        }
      ]
    }
  ]
}