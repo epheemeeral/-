{
  "nbformat": 4,
  "nbformat_minor": 0,
  "metadata": {
    "colab": {
      "provenance": [],
      "authorship_tag": "ABX9TyOKIjEVfrK21IKJWxGsB/5u",
      "include_colab_link": true
    },
    "kernelspec": {
      "name": "python3",
      "display_name": "Python 3"
    },
    "language_info": {
      "name": "python"
    }
  },
  "cells": [
    {
      "cell_type": "markdown",
      "metadata": {
        "id": "view-in-github",
        "colab_type": "text"
      },
      "source": [
        "<a href=\"https://colab.research.google.com/github/epheemeeral/-/blob/main/%D0%9F%D1%80%D0%B0%D0%BA%D1%82%D0%B8%D1%87%D0%B5%D1%81%D0%BA%D0%B0%D1%8F_%D1%80%D0%B0%D0%B1%D0%BE%D1%82%D0%B0_%E2%84%961_2_%D0%BF%D0%BE_%D1%82%D0%B5%D0%BC%D0%B5_%C2%AB%D0%A1%D0%BE%D0%B7%D0%B4%D0%B0%D0%BD%D0%B8%D0%B5_%D0%BF%D1%80%D0%BE%D1%81%D1%82%D1%8B%D1%85_%D0%BA%D0%BB%D0%B0%D1%81%D1%81%D0%BE%D0%B2%C2%BB.ipynb\" target=\"_parent\"><img src=\"https://colab.research.google.com/assets/colab-badge.svg\" alt=\"Open In Colab\"/></a>"
      ]
    },
    {
      "cell_type": "markdown",
      "source": [
        "#1.2.1 \n",
        "Создание новых экземпляров объектов класса может быть отличным способом отслеживания значений с помощью атрибутов, связанных с объектом. Значения этих атрибутов можно легко изменить на уровне объекта. Следующий код иллюстрирует знаменитую цитату Джорджа Бернарда Шоу, в которой объекты используются для представления людей. Заполните пробелы, чтобы код соответствовал поведению, описанному в цитате ниже"
      ],
      "metadata": {
        "id": "8hVMlQsHk8lP"
      }
    },
    {
      "cell_type": "code",
      "source": [
        "# “Если у тебя есть яблоко, а у меня есть яблоко, и мы\n",
        "# обменяемся этими яблоками, тогда\n",
        "# у нас с тобой по-прежнему будет по одному яблоку. Но если у\n",
        "# вас есть идея, а у меня есть\n",
        "# идея, и мы обмениваемся этими идеями, тогда у каждого из нас\n",
        "# будет по две идеи”.\n",
        "# Джордж Бернард Шоу\n",
        "class Person:\n",
        "    apples = 0\n",
        "    ideas = 0\n",
        "\n",
        "johanna = Person()\n",
        "johanna.apples = 1\n",
        "johanna.ideas = 1\n",
        "martin = Person()\n",
        "martin.apples = 2\n",
        "martin.ideas = 1\n",
        "\n",
        "def exchange_apples(you, me):\n",
        "# Здесь, несмотря на цитату Дж.Б. Шоу, наши персонажи начали с\n",
        "# разного количества яблок, чтобы лучше понять результат.\n",
        "# Мы собираемся попросить Мартина и Джоанну обменяться ВСЕМИ своими яблоками друг с другом.\n",
        "    x = you.apples\n",
        "    you.apples = me.apples\n",
        "    me.apples = x\n",
        "    return you.apples, me.apples\n",
        "\n",
        "def exchange_ideas(you, me):\n",
        "# \"ты\" и \"я\" обменяемся своими идеями друг с другом.\n",
        "# Какие операции необходимо выполнить, чтобы каждый объект получал\n",
        "# общее количество идей?\n",
        "# Подсказка: как бы вы распределили общее количество идей по\n",
        "# атрибут каждой идеи? Вам нужна временная переменная для хранения\n",
        "# суммы идей, или вы можете найти другой способ?\n",
        "# Используйте здесь столько строк кода, сколько вам нужно.\n",
        "    x = you.ideas\n",
        "    you.ideas += me.ideas\n",
        "    me.ideas += x\n",
        "    return you.ideas, me.ideas\n",
        "\n",
        "exchange_apples(johanna, martin)\n",
        "print(\"Johanna has {} apples and Martin has {} apples\".format(johanna.apples, martin.apples))\n",
        "exchange_ideas(johanna, martin)\n",
        "print(\"Johanna has {} ideas and Martin has {} ideas\".format(johanna.ideas, martin.ideas))"
      ],
      "metadata": {
        "colab": {
          "base_uri": "https://localhost:8080/"
        },
        "id": "uE_-d16ZlLEo",
        "outputId": "642480fe-3486-4e66-b718-ebc7369225b5"
      },
      "execution_count": 2,
      "outputs": [
        {
          "output_type": "stream",
          "name": "stdout",
          "text": [
            "Johanna has 2 apples and Martin has 1 apples\n",
            "Johanna has 2 ideas and Martin has 2 ideas\n"
          ]
        }
      ]
    },
    {
      "cell_type": "markdown",
      "source": [
        "#1.2.2 \n",
        "Класс City имеет следующие атрибуты: имя, страна (где расположен город), высота (измеряется в метрах) и население (приблизительно, согласно недавней статистике). Заполните пробелы в функции max_elevation_city, чтобы вернуть название города и его страну (разделенные запятой) при сравнении трех определенных экземпляров для указанной минимальной численности населения. Например, вызов функции для минимального населения в 1 миллион: max_elevation_city (1000000) должен вернуть «София, Болгария»."
      ],
      "metadata": {
        "id": "OhRWNgzhm84r"
      }
    },
    {
      "cell_type": "code",
      "source": [
        "# определите базовый класс города\n",
        "class City:\n",
        "    name = \"\"\n",
        "    country = \"\"\n",
        "    elevation = 0\n",
        "    population = 0\n",
        "# создайте новый экземпляр класса City и\n",
        "# определите каждый атрибут\n",
        "\n",
        "city1 = City()\n",
        "city1.name = \"Cusco\"\n",
        "city1.country = \"Peru\"\n",
        "city1.elevation = 3399\n",
        "city1.population = 358052\n",
        "# создайте новый экземпляр класса City и\n",
        "# определите каждый атрибут\n",
        "city2 = City()\n",
        "city2.name = \"Sofia\"\n",
        "city2.country = \"Bulgaria\"\n",
        "city2.elevation = 2290\n",
        "city2.population = 1241675\n",
        "# создайте новый экземпляр класса City и\n",
        "# определите каждый атрибут\n",
        "city3 = City()\n",
        "city3.name = \"Seoul\"\n",
        "city3.country = \"South Korea\"\n",
        "city3.elevation = 38\n",
        "city3.population = 9733509\n",
        "\n",
        "def max_elevation_city(min_population):\n",
        "# Инициализируйте переменную, которая будет содержать\n",
        "# информация о городе с\n",
        "# самой высокой возвышенностью\n",
        "    return_city = City()\n",
        "    return_city.population = min_population\n",
        "\n",
        "# Оцените 1-й экземпляр на соответствие требованиям:\n",
        "# есть ли в городе #1 хотя бы минимальное население и\n",
        "# является ли его возвышенность самой высокой из оцененных на данный момент?\n",
        "    if (city1.population >= min_population):\n",
        "        return_city = city1\n",
        "# Оцените 2-й экземпляр на соответствие требованиям:\n",
        "# есть ли в городе #2 хотя бы минимальное население и\n",
        "# является ли его возвышенность самой высокой из оцененных на данный момент?\n",
        "    if (city2.population >= min_population) and (city2.elevation > return_city.elevation):\n",
        "        return_city = city2\n",
        "# Оцените 3-й экземпляр на соответствие требованиям:\n",
        "# есть ли в городе #3 хотя бы минимальное население и\n",
        "# является ли его возвышенность самой высокой из оцененных на данный момент?\n",
        "    if (city3.population >= min_population) and (city3.elevation > return_city.elevation):\n",
        "        return_city = city3\n",
        "#Форматирование возвращаемой строки\n",
        "    if return_city.name:\n",
        "        return f'{return_city.name}, {return_city.country}'\n",
        "    else:\n",
        "        return 'Nope. There is nothing.'\n",
        "\n",
        "print(max_elevation_city(100000))\n",
        "# Вывод на экран \"Cusco, Peru\"\n",
        "print(max_elevation_city(1000000))\n",
        "# Вывод на экран \"Sofia, Bulgaria\"\n",
        "print(max_elevation_city(10000000))\n",
        "# Вывод на экран \"Nope. There is nothing.\""
      ],
      "metadata": {
        "colab": {
          "base_uri": "https://localhost:8080/"
        },
        "id": "onj8F11wnDFR",
        "outputId": "4093b169-f231-47d7-a3a8-63a430a78298"
      },
      "execution_count": 3,
      "outputs": [
        {
          "output_type": "stream",
          "name": "stdout",
          "text": [
            "Cusco, Peru\n",
            "Sofia, Bulgaria\n",
            "Nope. There is nothing.\n"
          ]
        }
      ]
    },
    {
      "cell_type": "markdown",
      "source": [
        "#1.2.3 \n",
        "У нас есть два предмета мебели: коричневый деревянный стол и красный кожаный диван. Заполните пустые поля после создания каждого экземпляра класса Furniture, чтобы функция describe_furniture могла отформатировать предложение, описывающее эти элементы, следующим образом: «Этот предмет мебели изготовлен из {color} {material}»."
      ],
      "metadata": {
        "id": "lQup94Ndody5"
      }
    },
    {
      "cell_type": "code",
      "source": [
        "class Furniture:\n",
        "    color = \"\"\n",
        "    material = \"\"\n",
        "table = Furniture()\n",
        "table.color = \"brown\"\n",
        "table.material = \"wood\"\n",
        "couch = Furniture()\n",
        "couch.color = \"red\"\n",
        "couch.material = \"leather\"\n",
        "\n",
        "def describe_furniture(piece):\n",
        "    return (\"This piece of furniture is made from {} {}.\".format(piece.color, piece.material))\n",
        "\n",
        "print(describe_furniture(table))\n",
        "# Вывод на экран \"Этот предмет мебели сделан из коричневого дерева\"\n",
        "print(describe_furniture(couch))\n",
        "# Вывод на экран \"Этот предмет мебели сделан из красной кожи\""
      ],
      "metadata": {
        "colab": {
          "base_uri": "https://localhost:8080/"
        },
        "id": "x6NfGUgZollT",
        "outputId": "904d4c38-14d9-4a92-9333-b9ba58757124"
      },
      "execution_count": 4,
      "outputs": [
        {
          "output_type": "stream",
          "name": "stdout",
          "text": [
            "This piece of furniture is made from brown wood.\n",
            "This piece of furniture is made from red leather.\n"
          ]
        }
      ]
    }
  ]
}