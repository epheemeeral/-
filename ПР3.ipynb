{
  "nbformat": 4,
  "nbformat_minor": 0,
  "metadata": {
    "colab": {
      "provenance": [],
      "authorship_tag": "ABX9TyNPkwXmO3yCNAM/iIVZLdqc",
      "include_colab_link": true
    },
    "kernelspec": {
      "name": "python3",
      "display_name": "Python 3"
    },
    "language_info": {
      "name": "python"
    }
  },
  "cells": [
    {
      "cell_type": "markdown",
      "metadata": {
        "id": "view-in-github",
        "colab_type": "text"
      },
      "source": [
        "<a href=\"https://colab.research.google.com/github/epheemeeral/-/blob/main/%D0%9F%D0%A03.ipynb\" target=\"_parent\"><img src=\"https://colab.research.google.com/assets/colab-badge.svg\" alt=\"Open In Colab\"/></a>"
      ]
    },
    {
      "cell_type": "markdown",
      "source": [
        "#Вариант №20\n",
        "Описать класс «цветная точка». Для точки задаются координаты и цвет. Цвет описывается с помощью трех составляющих (красный, зеленый, синий). Предусмотреть различные методы инициализации объекта с проверкой допустимости значений. Допустимым диапазоном для каждой составляющей является [0, 255]. В случае недопустимых значений полей выбрасываются исключения. Описать свойства для получения состояния объекта и метод изменения цвета.\n",
        "Написать программу, демонстрирующую все разработанные элементы класса."
      ],
      "metadata": {
        "id": "MJpLRTW6C385"
      }
    },
    {
      "cell_type": "code",
      "source": [
        "try:\n",
        "  x = int(input('введите координату точки по оси x: '))\n",
        "  y = int(input('введите координату точки по оси y: '))\n",
        "  color = input('введите цвет точки: ').lower()\n",
        "  \n",
        "  if 0 <= x <= 255 and 0 <= y <= 255 and color == 'красный' or color == 'зеленый' or color == 'синий':\n",
        "\n",
        "    class ColorPoint:\n",
        "      def __init__(self, x, y, color):\n",
        "        self.x = x\n",
        "        self.y = y\n",
        "        self.color = color\n",
        "      \n",
        "      def change(self):\n",
        "        self.color = input()\n",
        "        if self.color == 'красный' or self.color == 'зеленый' or self.color == 'синий':\n",
        "          print('цвет успешно изменен')\n",
        "        else:\n",
        "          self.color = color \n",
        "    \n",
        "      def info(self):\n",
        "        return f\"{self.x}, {self.y}, {self.color}\"\n",
        "\n",
        "  else:\n",
        "    print('вы ввели недопустимые значения')\n",
        "\n",
        "\n",
        "except ValueError:\n",
        "  print('данные введены неправильно')"
      ],
      "metadata": {
        "colab": {
          "base_uri": "https://localhost:8080/"
        },
        "id": "sKlvRxF4LeNi",
        "outputId": "63f0d4c5-bad0-491a-e5ae-3bb613633ac3"
      },
      "execution_count": null,
      "outputs": [
        {
          "name": "stdout",
          "output_type": "stream",
          "text": [
            "введите координату точки по оси x: 5\n",
            "введите координату точки по оси y: 6\n",
            "введите цвет точки: красный\n"
          ]
        }
      ]
    },
    {
      "cell_type": "code",
      "source": [
        "a = ColorPoint(x, y, color)\n",
        "a.change()"
      ],
      "metadata": {
        "colab": {
          "base_uri": "https://localhost:8080/"
        },
        "id": "B5t4ESChLmP0",
        "outputId": "708a2718-876c-4dfe-b2b8-a88a1bc23e20"
      },
      "execution_count": null,
      "outputs": [
        {
          "output_type": "stream",
          "name": "stdout",
          "text": [
            "зеленый\n",
            "цвет успешно изменен\n"
          ]
        }
      ]
    },
    {
      "cell_type": "code",
      "source": [
        "a.info()"
      ],
      "metadata": {
        "colab": {
          "base_uri": "https://localhost:8080/",
          "height": 37
        },
        "id": "1nBVqzLFLrJW",
        "outputId": "50e88937-cd5e-4d20-a453-e6ebc68920a0"
      },
      "execution_count": null,
      "outputs": [
        {
          "output_type": "execute_result",
          "data": {
            "text/plain": [
              "'5, 6, зеленый'"
            ],
            "application/vnd.google.colaboratory.intrinsic+json": {
              "type": "string"
            }
          },
          "metadata": {},
          "execution_count": 6
        }
      ]
    }
  ]
}