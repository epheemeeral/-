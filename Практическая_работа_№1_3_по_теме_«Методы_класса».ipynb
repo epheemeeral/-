{
  "nbformat": 4,
  "nbformat_minor": 0,
  "metadata": {
    "colab": {
      "provenance": [],
      "authorship_tag": "ABX9TyOztyBltSt9oWNlItipdwad",
      "include_colab_link": true
    },
    "kernelspec": {
      "name": "python3",
      "display_name": "Python 3"
    },
    "language_info": {
      "name": "python"
    }
  },
  "cells": [
    {
      "cell_type": "markdown",
      "metadata": {
        "id": "view-in-github",
        "colab_type": "text"
      },
      "source": [
        "<a href=\"https://colab.research.google.com/github/epheemeeral/-/blob/main/%D0%9F%D1%80%D0%B0%D0%BA%D1%82%D0%B8%D1%87%D0%B5%D1%81%D0%BA%D0%B0%D1%8F_%D1%80%D0%B0%D0%B1%D0%BE%D1%82%D0%B0_%E2%84%961_3_%D0%BF%D0%BE_%D1%82%D0%B5%D0%BC%D0%B5_%C2%AB%D0%9C%D0%B5%D1%82%D0%BE%D0%B4%D1%8B_%D0%BA%D0%BB%D0%B0%D1%81%D1%81%D0%B0%C2%BB.ipynb\" target=\"_parent\"><img src=\"https://colab.research.google.com/assets/colab-badge.svg\" alt=\"Open In Colab\"/></a>"
      ]
    },
    {
      "cell_type": "markdown",
      "source": [
        "#1.3.1 \n",
        "Создайте для класса «студент» функцию, которая считает средний балл по трем дисциплинам, оценки по которым вводятся пользователям. Реализуйте программу двумя способами: без использования конструктора __init__ и с ним."
      ],
      "metadata": {
        "id": "cehDYRT0pr3x"
      }
    },
    {
      "cell_type": "code",
      "source": [
        "first = int(input('введите оценку по 1ой дисциплине: '))\n",
        "second = int(input('введите оценку по 2ой дисциплине: '))\n",
        "third = int(input('введите оценку по 3ей дисциплине: '))\n",
        "\n",
        "class Student:\n",
        "  __a = int()\n",
        "  __b = int()\n",
        "  __c = int()\n",
        "\n",
        "  def __init__ (self, a, b, c): \n",
        "        self.a = a\n",
        "        self.b = b\n",
        "        self.c = c\n",
        "  \n",
        "  def average_score(self):\n",
        "    return (self.a + self.b + self.c) / 3\n",
        "\n",
        "x = Student(first, second, third)\n",
        "x.average_score()"
      ],
      "metadata": {
        "colab": {
          "base_uri": "https://localhost:8080/"
        },
        "id": "PWNqW1JGqLk_",
        "outputId": "bb8e47b4-c428-405d-9633-cb2224897d62"
      },
      "execution_count": null,
      "outputs": [
        {
          "name": "stdout",
          "output_type": "stream",
          "text": [
            "введите оценку по 1ой дисциплине: 3\n",
            "введите оценку по 2ой дисциплине: 4\n",
            "введите оценку по 3ей дисциплине: 5\n"
          ]
        },
        {
          "output_type": "execute_result",
          "data": {
            "text/plain": [
              "4.0"
            ]
          },
          "metadata": {},
          "execution_count": 2
        }
      ]
    },
    {
      "cell_type": "markdown",
      "source": [
        "#1.3.2 \n",
        "Создайте функцию, которая считает и выводит в файл заработную плату сотрудника склада в зависимости от количества отработанных дней в месяце. Оклад является защищаемым атрибутом класса «сотрудник»."
      ],
      "metadata": {
        "id": "aPe-WlD2pwQB"
      }
    },
    {
      "cell_type": "code",
      "source": [
        "salary = int(input('введите зп за день: '))\n",
        "days = int(input('введите количество отработанных дней: '))\n",
        "\n",
        "class Employee:\n",
        "  __salary = int()\n",
        "\n",
        "  def __init__ (self, days, salary):\n",
        "    self.salary = salary\n",
        "    self.days = days\n",
        "\n",
        "  def final_salary(self):\n",
        "    return self.salary * self.days\n",
        "\n",
        "x = Employee(salary, days)\n",
        "x.final_salary()"
      ],
      "metadata": {
        "colab": {
          "base_uri": "https://localhost:8080/"
        },
        "id": "7wryupA3uoxf",
        "outputId": "5781608f-55ed-434c-add2-2239a11548bf"
      },
      "execution_count": null,
      "outputs": [
        {
          "name": "stdout",
          "output_type": "stream",
          "text": [
            "введите зп за день: 1000\n",
            "введите количество отработанных дней: 30\n"
          ]
        },
        {
          "output_type": "execute_result",
          "data": {
            "text/plain": [
              "30000"
            ]
          },
          "metadata": {},
          "execution_count": 10
        }
      ]
    },
    {
      "cell_type": "markdown",
      "source": [
        "#1.3.3 \n",
        "Используя результат предыдущего задания, создайте функцию начисления премии сотруднику, вычисляемую как 1% от уровня заработной платы."
      ],
      "metadata": {
        "id": "Bb-1KZ1lpzxC"
      }
    },
    {
      "cell_type": "code",
      "source": [
        "salary = int(input('введите зп за день: '))\n",
        "days = int(input('введите количество отработанных дней: '))\n",
        "\n",
        "class Employee:\n",
        "  __salary = int()\n",
        "\n",
        "  def __init__ (self, days, salary):\n",
        "    self.salary = salary\n",
        "    self.days = days\n",
        "\n",
        "  def final_salary(self):\n",
        "    return self.salary * self.days\n",
        "\n",
        "  def prize(self):\n",
        "    prize =  self.salary * self.days * 1 / 100\n",
        "    return self.salary * self.days + prize\n",
        "\n",
        "\n",
        "x = Employee(salary, days)\n",
        "x.final_salary()"
      ],
      "metadata": {
        "colab": {
          "base_uri": "https://localhost:8080/"
        },
        "id": "bKU-pY7xzRPq",
        "outputId": "819eb7d8-8205-44e8-f866-81262df15360"
      },
      "execution_count": null,
      "outputs": [
        {
          "name": "stdout",
          "output_type": "stream",
          "text": [
            "введите зп за день: 1000\n",
            "введите количество отработанных дней: 20\n"
          ]
        },
        {
          "output_type": "execute_result",
          "data": {
            "text/plain": [
              "20000"
            ]
          },
          "metadata": {},
          "execution_count": 24
        }
      ]
    },
    {
      "cell_type": "code",
      "source": [
        "x.prize()"
      ],
      "metadata": {
        "colab": {
          "base_uri": "https://localhost:8080/"
        },
        "id": "VBj0QmFzze3l",
        "outputId": "b8ff035c-35b2-4d3a-e0b7-e0acbc5e720c"
      },
      "execution_count": null,
      "outputs": [
        {
          "output_type": "execute_result",
          "data": {
            "text/plain": [
              "20200.0"
            ]
          },
          "metadata": {},
          "execution_count": 25
        }
      ]
    },
    {
      "cell_type": "markdown",
      "source": [
        "#1.3.4 \n",
        "Модифицируйте предыдущую программу, позволяющую вычислять заработную плату, премию для сотрудников и определять величину общего фонда заработной платы как сумму заработной платы и премий, деленную на коэффициент 0,7. Данные о сотрудниках вводятся через цикл while и записываются в соответствующий файл .txt или .xlsx."
      ],
      "metadata": {
        "id": "7R5Orp58p4Hp"
      }
    },
    {
      "cell_type": "code",
      "source": [
        "class Employee:\n",
        "    res = 0\n",
        "    def __init__(self):\n",
        "        self.oklad = float(input('введите зп за месяц: '))\n",
        "        self.work_days = int(input('введите количество рабочих дней в месяц: '))\n",
        "        self.fact_work = int(input('введите количество отработанных дней: '))\n",
        "        \n",
        "    def act_salary(self):\n",
        "        self.res = self.oklad / self.work_days * self.fact_work\n",
        "        a = open('salary_1_3_2', 'w') \n",
        "        a.write(str(self.res) + '\\n') \n",
        "        a.close()\n",
        "        return self.res\n",
        "\n",
        "    def award(self):\n",
        "        i = self.act_salary()\n",
        "        self.res += (self.res * 0.01)\n",
        "        a = open('salary_1_3_2', 'w')\n",
        "        a.write(str(self.res) + '\\n')\n",
        "        a.close()\n",
        "        return self.res\n",
        "\n",
        "    def __del__(self):\n",
        "        print('Process deleted.')\n",
        "\n",
        "quan = int(input('введите количество сотрудников: '))\n",
        "x = 0\n",
        "open('salary_funds', 'w')\n",
        "while x < quan:\n",
        "    x += 1\n",
        "    f = Employee()\n",
        "    res = f.award()\n",
        "    listing = open('salary_funds', 'a')\n",
        "    listing.write(str(res) + '\\n')\n",
        "    listing.close()\n",
        "    del f\n",
        "\n",
        "def salary_f(filename):\n",
        "    resource = open(filename, 'r')\n",
        "    a = resource.read()\n",
        "    open(filename).read().split('\\n')\n",
        "\n",
        "    result = []\n",
        "    with open(filename) as f:\n",
        "        for line in f:\n",
        "            result.append([float(x) for x in line.split()])\n",
        "\n",
        "    res1 = []\n",
        "    for x in result:\n",
        "        for y in x:\n",
        "            res1.append(y)\n",
        "    sum_salary = sum(res1)\n",
        "\n",
        "    listing = open('salary_funds', 'a')\n",
        "    listing.write('sum_salary = ' + str(sum_salary) + '\\n')\n",
        "    listing.close()\n",
        "    return sum_salary\n",
        "\n",
        "test = salary_f('salary_funds')\n",
        "\n",
        "print('sum_salary = ', test)"
      ],
      "metadata": {
        "colab": {
          "base_uri": "https://localhost:8080/"
        },
        "id": "bBI4wtV8eCea",
        "outputId": "a70bb901-3b7c-4b0f-85a9-26bcbfe491d5"
      },
      "execution_count": 11,
      "outputs": [
        {
          "output_type": "stream",
          "name": "stdout",
          "text": [
            "введите количество сотрудников: 2\n",
            "Process deleted.\n",
            "введите зп за месяц: 23000\n",
            "введите количество рабочих дней в месяц: 20\n",
            "введите количество отработанных дней: 10\n",
            "Process deleted.\n",
            "введите зп за месяц: 20000\n",
            "введите количество рабочих дней в месяц: 15\n",
            "введите количество отработанных дней: 4\n",
            "Process deleted.\n",
            "sum_salary =  17001.666666666664\n"
          ]
        }
      ]
    },
    {
      "cell_type": "markdown",
      "source": [
        "#1.3.5 \n",
        "Используя технологию перегрузки операторов, измените __truediv__(деление) так, чтобы числителем был знаменатель и наоборот. Аналогичные процедуры осуществите для операторов __floordiv__(целочисленное деление), __mod__(остаток от деления). Числа вводят пользователи. Предусмотрите отработку исключений."
      ],
      "metadata": {
        "id": "7m4_IC5ep6HS"
      }
    },
    {
      "cell_type": "code",
      "source": [
        "class A():\n",
        "    def __init__(self, x):\n",
        "        self.r = float(x) # self.r - изначально числитель\n",
        "\n",
        "    def __truediv__(self, y):\n",
        "        return y / self.r \n",
        "\n",
        "    def __floordiv__(self, z):\n",
        "        return int(z // self.r)\n",
        "\n",
        "    def __mod__(self, p):\n",
        "        return int(p % self.r)\n",
        "    \n",
        "\n",
        "a = A(int(input('введите изначальный числитель: ')))\n",
        "b = int(input('введите изначальный знаменатель: '))\n",
        "print('результат деления наоборот: ', a / b) \n",
        "print('результат целочисленного деления наоборот: ',a // b) \n",
        "print('остаток от деления наоборот: ', a % b) "
      ],
      "metadata": {
        "colab": {
          "base_uri": "https://localhost:8080/"
        },
        "id": "ZlhwmQdjZai5",
        "outputId": "af6b29a5-14a1-4e19-c341-84f1b6a78acf"
      },
      "execution_count": 8,
      "outputs": [
        {
          "output_type": "stream",
          "name": "stdout",
          "text": [
            "введите изначальный числитель: 10\n",
            "введите изначальный знаменатель: 100\n",
            "результат деления наоборот:  10.0\n",
            "результат целочисленного деления наоборот:  10\n",
            "остаток от деления наоборот:  0\n"
          ]
        }
      ]
    }
  ]
}