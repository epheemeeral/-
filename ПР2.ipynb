{
  "nbformat": 4,
  "nbformat_minor": 0,
  "metadata": {
    "colab": {
      "provenance": [],
      "authorship_tag": "ABX9TyPo6FI7iEtpfBZftuVha2Rn",
      "include_colab_link": true
    },
    "kernelspec": {
      "name": "python3",
      "display_name": "Python 3"
    },
    "language_info": {
      "name": "python"
    }
  },
  "cells": [
    {
      "cell_type": "markdown",
      "metadata": {
        "id": "view-in-github",
        "colab_type": "text"
      },
      "source": [
        "<a href=\"https://colab.research.google.com/github/epheemeeral/-/blob/main/%D0%9F%D0%A02.ipynb\" target=\"_parent\"><img src=\"https://colab.research.google.com/assets/colab-badge.svg\" alt=\"Open In Colab\"/></a>"
      ]
    },
    {
      "cell_type": "markdown",
      "source": [
        "#тема «Наследование»"
      ],
      "metadata": {
        "id": "D6rKsbmkL4tX"
      }
    },
    {
      "cell_type": "markdown",
      "source": [
        "#1\n",
        "В рамках приложения разработать класс В – наследник класса А (задание 2) с полем d и свойством с2. Свойство с2 – результат вычисления выражения над полями a, b, d. В теле свойства использовать управляющий оператор (см. вариант в таблице 2.2). У класса А создать конструктор, инициализирующий его поля. Для класса В определить 2 конструктора: один – наследуется от конструктора класса А, второй – собственный. В теле программы создать объекты классов А и В, продемонстрировав работу всех конструкторов. Вывести значения свойства на экран."
      ],
      "metadata": {
        "id": "3ryFeqr8L7_y"
      }
    },
    {
      "cell_type": "markdown",
      "source": [
        "#Вариант 20"
      ],
      "metadata": {
        "id": "uHunXvCYU5Kh"
      }
    },
    {
      "cell_type": "code",
      "source": [
        "a = int(input())\n",
        "b = int(input())\n",
        "d = int(input())\n",
        "\n",
        "class A:\n",
        "  def __init__(self, a, b): # конструктор, инициализирующий поля \n",
        "    self.a = a # динамические поля\n",
        "    self.b = b\n",
        "\n",
        "class B(A):\n",
        "  def __init__(self, a, b, d):\n",
        "    A.__init__(self, a, b) # конструктор наследуется от класса A\n",
        "    self.d = d # поле d \n",
        "\n",
        "  def c2(self): # свойство с2\n",
        "      res1 = self.a + self.b + self.d\n",
        "      return res1"
      ],
      "metadata": {
        "id": "q_jPtIZWUhyG",
        "colab": {
          "base_uri": "https://localhost:8080/"
        },
        "outputId": "86db7cf2-278a-4332-e56a-df3c0e72ad72"
      },
      "execution_count": null,
      "outputs": [
        {
          "name": "stdout",
          "output_type": "stream",
          "text": [
            "5\n",
            "4\n",
            "3\n"
          ]
        }
      ]
    },
    {
      "cell_type": "code",
      "source": [
        "a = B(a, b, d)\n",
        "a.c2()"
      ],
      "metadata": {
        "colab": {
          "base_uri": "https://localhost:8080/"
        },
        "id": "gKH3PRwh_pjd",
        "outputId": "050e26b5-ebda-4225-c053-5ddea691daf1"
      },
      "execution_count": null,
      "outputs": [
        {
          "output_type": "execute_result",
          "data": {
            "text/plain": [
              "12"
            ]
          },
          "metadata": {},
          "execution_count": 8
        }
      ]
    },
    {
      "cell_type": "markdown",
      "source": [
        "#Упражнения для всех вариантов"
      ],
      "metadata": {
        "id": "u9XC9gnYigkY"
      }
    },
    {
      "cell_type": "markdown",
      "source": [
        "#1\n",
        "Создайте класс «зарплата», который вычисляет сумму зарплаты в зависимости от тарифной ставки и числа отработанных дней. Расширьте метод начислением процентов в зависимости от объема продаж."
      ],
      "metadata": {
        "id": "9lIkfUwsikEX"
      }
    },
    {
      "cell_type": "code",
      "source": [
        "try:\n",
        "  tarif = int(input('введите тарифную ставку: '))\n",
        "  work_days = int(input('введите число рабочих дней: '))\n",
        "  real_days = int(input('введите число отработанных дней: '))\n",
        "  sale_amount = int(input('введите сумму продаж: '))\n",
        "\n",
        "  if tarif > 0 and work_days > 0 and real_days > 0 and sale_amount > 0:\n",
        "\n",
        "    class Salary:\n",
        "    \n",
        "      def __init__(self, tarif, real_days, work_days):\n",
        "        self.tarif = tarif\n",
        "        self.real_days = real_days\n",
        "        self.work_days = work_days\n",
        "\n",
        "      def final_salary(self):\n",
        "        f_salary = self.tarif / self.work_days * self.real_days\n",
        "        return f_salary\n",
        "\n",
        "      def percent(self):\n",
        "        if sale_amount > 1000000:\n",
        "          return self.tarif / self.work_days * self.real_days + self.tarif / self.work_days * self.real_days * 0.05\n",
        "        else:\n",
        "          return self.tarif / self.work_days * self.real_days + self.tarif / self.work_days * self.real_days * 0.02\n",
        "  else:\n",
        "    print('вы ввели невозможные данные')\n",
        "\n",
        "except ValueError:\n",
        "  print('данные введены неправильно')"
      ],
      "metadata": {
        "colab": {
          "base_uri": "https://localhost:8080/"
        },
        "id": "w9jq4t52HSb2",
        "outputId": "b827a7d9-f129-4984-e491-be1f474466a9"
      },
      "execution_count": null,
      "outputs": [
        {
          "name": "stdout",
          "output_type": "stream",
          "text": [
            "введите тарифную ставку: 25000\n",
            "введите число рабочих дней: 25\n",
            "введите число отработанных дней: 20\n",
            "введите сумму продаж: 10000\n"
          ]
        }
      ]
    },
    {
      "cell_type": "code",
      "source": [
        "a = Salary(tarif, real_days, work_days)\n",
        "a.final_salary()"
      ],
      "metadata": {
        "colab": {
          "base_uri": "https://localhost:8080/"
        },
        "id": "-BTmEzD5im1r",
        "outputId": "d112c3b2-66fe-41c6-9e16-934956ed57d4"
      },
      "execution_count": null,
      "outputs": [
        {
          "output_type": "execute_result",
          "data": {
            "text/plain": [
              "20000.0"
            ]
          },
          "metadata": {},
          "execution_count": 130
        }
      ]
    },
    {
      "cell_type": "code",
      "source": [
        "a.percent()"
      ],
      "metadata": {
        "colab": {
          "base_uri": "https://localhost:8080/"
        },
        "id": "_VU6zSJorqua",
        "outputId": "feb12fe6-2811-473d-b68f-5415cf963202"
      },
      "execution_count": null,
      "outputs": [
        {
          "output_type": "execute_result",
          "data": {
            "text/plain": [
              "20400.0"
            ]
          },
          "metadata": {},
          "execution_count": 131
        }
      ]
    },
    {
      "cell_type": "markdown",
      "source": [
        "#2 \n",
        "Переопределите метод начисления зарплаты: в случае, если объем продаж в месяц превысил 1 000 000, проценты добавляются к зарплате, в противном случае – вычитаются."
      ],
      "metadata": {
        "id": "TD30Ks-5sN_J"
      }
    },
    {
      "cell_type": "code",
      "source": [
        "try:\n",
        "  tarif = int(input('введите тарифную ставку: '))\n",
        "  work_days = int(input('введите число рабочих дней: '))\n",
        "  real_days = int(input('введите число отработанных дней: '))\n",
        "  sale_amount = int(input('введите сумму продаж: '))\n",
        "\n",
        "  if tarif > 0 and work_days > 0 and real_days > 0 and sale_amount > 0:\n",
        "\n",
        "    class Salary:\n",
        "    \n",
        "      def __init__(self, tarif, real_days, work_days):\n",
        "        self.tarif = tarif\n",
        "        self.real_days = real_days\n",
        "        self.work_days = work_days\n",
        "\n",
        "      def final_salary(self):\n",
        "        f_salary = self.tarif / self.work_days * self.real_days\n",
        "        return f_salary\n",
        "\n",
        "      def percent(self):\n",
        "        if sale_amount > 1000000:\n",
        "          return self.tarif / self.work_days * self.real_days + self.tarif / self.work_days * self.real_days * 0.05\n",
        "        else:\n",
        "          return self.tarif / self.work_days * self.real_days - self.tarif / self.work_days * self.real_days * 0.05\n",
        "  else:\n",
        "    print('вы ввели невозможные данные')\n",
        "\n",
        "except ValueError:\n",
        "  print('данные введены неправильно')"
      ],
      "metadata": {
        "colab": {
          "base_uri": "https://localhost:8080/"
        },
        "id": "0iktUHOusWtw",
        "outputId": "c24696c6-e0df-4fea-addb-58483077825f"
      },
      "execution_count": null,
      "outputs": [
        {
          "name": "stdout",
          "output_type": "stream",
          "text": [
            "введите тарифную ставку: 25000\n",
            "введите число рабочих дней: 25\n",
            "введите число отработанных дней: 20\n",
            "введите сумму продаж: 100000\n"
          ]
        }
      ]
    },
    {
      "cell_type": "code",
      "source": [
        "a = Salary(tarif, real_days, work_days)\n",
        "a.final_salary()"
      ],
      "metadata": {
        "colab": {
          "base_uri": "https://localhost:8080/"
        },
        "id": "jj2M82o5GZw6",
        "outputId": "dec3f6e4-1c31-46b1-ba78-32d38738c341"
      },
      "execution_count": null,
      "outputs": [
        {
          "output_type": "execute_result",
          "data": {
            "text/plain": [
              "20000.0"
            ]
          },
          "metadata": {},
          "execution_count": 124
        }
      ]
    },
    {
      "cell_type": "code",
      "source": [
        "a.percent()"
      ],
      "metadata": {
        "colab": {
          "base_uri": "https://localhost:8080/"
        },
        "id": "LuKkssEdsx2g",
        "outputId": "be4b8bfd-226b-4dc7-f44a-10f560e07ce5"
      },
      "execution_count": null,
      "outputs": [
        {
          "output_type": "execute_result",
          "data": {
            "text/plain": [
              "19000.0"
            ]
          },
          "metadata": {},
          "execution_count": 125
        }
      ]
    },
    {
      "cell_type": "markdown",
      "source": [
        "#3\n",
        "Создайте для класса «сотрудники» абстрактный метод начисления зарплаты. Создайте два класса-наследника: сотрудник отдела продаж и сотрудник склада.\n",
        "Для первого класса начисление происходит аналогично заданию 1, а для второго –в зависимости от количества отработанных дней."
      ],
      "metadata": {
        "id": "dINY4Xuutnh2"
      }
    },
    {
      "cell_type": "code",
      "source": [
        "# Абстрактным называется объявленный, но не реализованный метод\n",
        "try:\n",
        "  tarif = int(input('введите тарифную ставку: '))\n",
        "  work_days = int(input('введите число рабочих дней: '))\n",
        "  real_days = int(input('введите число отработанных дней: '))\n",
        "  salary_day = int(input('введите ставку в день: '))\n",
        "  if tarif > 0 and work_days > 0 and real_days > 0 and salary_day > 0:\n",
        "    class Employees:\n",
        "\n",
        "      def __init__(self, tarif, real_days, work_days, salary_day):\n",
        "        self.tarif = tarif\n",
        "        self.real_days = real_days\n",
        "        self.work_days = work_days\n",
        "        self.salary_day = salary_day\n",
        "\n",
        "      def final_salary(self): #абстрактный метод(полиморфизм)\n",
        "        pass\n",
        "\n",
        "    class SalesEmployee(Employees):\n",
        "      def final_salary(self):\n",
        "        f_salary = self.tarif / self.work_days * self.real_days\n",
        "        return f_salary    \n",
        "\n",
        "    class WarehouseEmloyee(Employees):\n",
        "      def final_salary(self):\n",
        "        f_salary = self.salary_day * self.real_days\n",
        "        return f_salary\n",
        "\n",
        "  else:\n",
        "    print('вы ввели невозможные данные')\n",
        "\n",
        "except ValueError:\n",
        "  print('данные введены неправильно')"
      ],
      "metadata": {
        "colab": {
          "base_uri": "https://localhost:8080/"
        },
        "id": "0DmOJjRdDzws",
        "outputId": "d80d10fa-be64-4abb-cd34-6ef98d9fe6df"
      },
      "execution_count": null,
      "outputs": [
        {
          "name": "stdout",
          "output_type": "stream",
          "text": [
            "введите тарифную ставку: 25000\n",
            "введите число рабочих дней: 25\n",
            "введите число отработанных дней: 20\n",
            "введите ставку в день: 1000\n"
          ]
        }
      ]
    },
    {
      "cell_type": "code",
      "source": [
        "a = SalesEmployee(tarif, real_days, work_days, salary_day)\n",
        "a.final_salary()"
      ],
      "metadata": {
        "colab": {
          "base_uri": "https://localhost:8080/"
        },
        "id": "4x4z2D1WAYal",
        "outputId": "d567585d-78dc-4a06-a00b-47aee6597c34"
      },
      "execution_count": null,
      "outputs": [
        {
          "output_type": "execute_result",
          "data": {
            "text/plain": [
              "20000.0"
            ]
          },
          "metadata": {},
          "execution_count": 120
        }
      ]
    },
    {
      "cell_type": "code",
      "source": [
        "x = WarehouseEmloyee(tarif, real_days, work_days, salary_day)\n",
        "x.final_salary()"
      ],
      "metadata": {
        "colab": {
          "base_uri": "https://localhost:8080/"
        },
        "id": "5tAE_pWG2-Tu",
        "outputId": "034c9ba4-7128-4387-d261-b2769293a68b"
      },
      "execution_count": null,
      "outputs": [
        {
          "output_type": "execute_result",
          "data": {
            "text/plain": [
              "20000"
            ]
          },
          "metadata": {},
          "execution_count": 121
        }
      ]
    },
    {
      "cell_type": "markdown",
      "source": [
        "#4\n",
        "Решите предыдущую задачу, используя декоратор abstractmethod. Имеется класс «мебель». Создайте класс «корпусная мебель», «мягкая мебель» и «кухонная мебель». Определите атрибуты и методы родительского класса и классов-наследников."
      ],
      "metadata": {
        "id": "HOU75XYn4MnZ"
      }
    },
    {
      "cell_type": "code",
      "source": [
        "from abc import ABC, abstractmethod\n",
        "\n",
        "class Furniture:\n",
        "  @abstractmethod\n",
        "  def a(self):\n",
        "    print('мебель')\n",
        "\n",
        "class Cabinet_f(Furniture):\n",
        "    def a(self):\n",
        "      super().a()\n",
        "      print('корпусная мебель')\n",
        "\n",
        "class Soft(Furniture):\n",
        "    def a(self):\n",
        "      super().a()\n",
        "      print('мягкая мебель')\n",
        "\n",
        "class Kitchen(Furniture):\n",
        "    def a(self):\n",
        "      super().a()\n",
        "      print('кухонная мебель')\n"
      ],
      "metadata": {
        "id": "eke6jvX1t4uf"
      },
      "execution_count": 1,
      "outputs": []
    },
    {
      "cell_type": "code",
      "source": [
        "a = Cabinet_f()\n",
        "a.a()"
      ],
      "metadata": {
        "colab": {
          "base_uri": "https://localhost:8080/"
        },
        "id": "XCVe5vT_6lEu",
        "outputId": "596249c6-802a-496a-b6db-487b378671fb"
      },
      "execution_count": 2,
      "outputs": [
        {
          "output_type": "stream",
          "name": "stdout",
          "text": [
            "мебель\n",
            "корпусная мебель\n"
          ]
        }
      ]
    },
    {
      "cell_type": "code",
      "source": [
        "from abc import ABC, abstractmethod\n",
        "\n",
        "class Furniture:\n",
        "\n",
        "  def __init__(self, bed = 'bed', sofa = 'sofa'):\n",
        "    self.b = bed\n",
        "    self.s = sofa \n",
        "\n",
        "  @abstractmethod\n",
        "  def a(self):\n",
        "    print('мебель')\n",
        "\n",
        "\n",
        "class Cabinet_f(Furniture):\n",
        "\n",
        "  def __init__(self, bed, sofa, shelf = 'shelf'):\n",
        "    super().__init__(bed, sofa)\n",
        "    self.sh = shelf\n",
        "\n",
        "    def a(self):\n",
        "      super().a()\n",
        "      print('корпусная мебель')\n",
        "\n",
        "class Soft(Furniture):\n",
        "\n",
        "  def __init__(self, bed, sofa, armchair = 'armchair'):\n",
        "    super().__init__(bed, sofa)\n",
        "    self.a = armchair\n",
        "\n",
        "    def a(self):\n",
        "      super().a()\n",
        "      print('мягкая мебель')\n",
        "\n",
        "class Kitchen(Furniture):\n",
        "\n",
        "  def __init__(self, bed, sofa, table = 'table'):\n",
        "    super().__init__(bed, sofa)\n",
        "    self.t = table\n",
        "\n",
        "    def a(self):\n",
        "      super().a()\n",
        "      print('кухонная мебель')"
      ],
      "metadata": {
        "id": "0oIZ1zfB8amk"
      },
      "execution_count": 3,
      "outputs": []
    },
    {
      "cell_type": "markdown",
      "source": [
        "#6\n",
        "Создайте приложение, в котором необходимо разработать базовый класс man. Объекты этого класса содержат справочную информацию о конкретном человеке (фамилию, инициалы, телефон, адрес, возраст).\n",
        "\n",
        "Создайте два производных от него класса: manager и secretary. Объекты класса manager дополнительно включают номер отдела и количество подчиненных. \n",
        "\n",
        "Объекты класса secretary дополнительно включают фамилию начальника. Данные о менеджерах и секретарях введите с клавиатуры и выведите на экран дисплея."
      ],
      "metadata": {
        "id": "0p61F3z7tAl6"
      }
    },
    {
      "cell_type": "code",
      "source": [
        "try:\n",
        "  surname = input('введите фамилию: ')\n",
        "  initials = input('введите инициалы: ')\n",
        "  phone_number = input('введите номер телефона: ')\n",
        "  address = input('введите адрес: ')\n",
        "  age = int(input('введите возраст: '))\n",
        "  choice = input('менеджер/секретарь? ').lower()\n",
        "\n",
        "  class Man:\n",
        "    def __init__(self, surname, initials, phone_number, address, age):\n",
        "      self.surname = surname\n",
        "      self.initials = initials\n",
        "      self.phone_number = phone_number\n",
        "      self.address = address\n",
        "      self.age = age\n",
        "\n",
        "    def data(self):\n",
        "\n",
        "      x = []\n",
        "      x.append(self.surname)\n",
        "      x.append(self.initials)\n",
        "      x.append(self.phone_number)\n",
        "      x.append(self.address)\n",
        "      x.append(self.age)\n",
        "\n",
        "      def __del__(self):\n",
        "        pass\n",
        "\n",
        "  if choice == 'менеджер':\n",
        "    department_number = int(input('введите номер отдела: '))\n",
        "    number_of_subordinates = int(input('введите количество подчиненных: '))\n",
        "\n",
        "    class Manager(Man):\n",
        "\n",
        "      def __init__(self, surname, initials, phone_number, address, age, department_number, number_of_subordinates):\n",
        "        Man.__init__(self, surname, initials, phone_number, address, age)\n",
        "        self.d = department_number\n",
        "        self.n = number_of_subordinates\n",
        "\n",
        "      def data(self):\n",
        "        super().data()\n",
        "        x = []\n",
        "        x.append(self.surname)\n",
        "        x.append(self.initials)\n",
        "        x.append(self.phone_number)\n",
        "        x.append(self.address)\n",
        "        x.append(self.age)\n",
        "        x.append(self.d)\n",
        "        x.append(self.n)\n",
        "        return x\n",
        "\n",
        "      def __del__(self):\n",
        "        pass\n",
        "\n",
        "  elif choice == 'секретарь':\n",
        "    surname_chief = input('введите фамилию начальника: ')\n",
        "\n",
        "    class Secretary(Man):\n",
        "\n",
        "      def __init__(self, surname, initials, phone_number, address, age, surname_chief):\n",
        "        Man.__init__(self, surname, initials, phone_number, address, age)\n",
        "        self.s = surname_chief\n",
        "\n",
        "      def data(self):\n",
        "        super().data()\n",
        "        x = []\n",
        "        x.append(self.surname)\n",
        "        x.append(self.initials)\n",
        "        x.append(self.phone_number)\n",
        "        x.append(self.address)\n",
        "        x.append(self.age)\n",
        "        x.append(self.s)\n",
        "        return x\n",
        "\n",
        "      def __del__(self):\n",
        "        pass\n",
        "  else:\n",
        "    print('данные о профессии сотрудника введены неправильно')\n",
        "\n",
        "except ValueError:\n",
        "  print('данные введены неправильно')"
      ],
      "metadata": {
        "colab": {
          "base_uri": "https://localhost:8080/"
        },
        "id": "7SJ8bS8TlcjZ",
        "outputId": "5324763a-cf78-4956-9897-99a79ee9b46b"
      },
      "execution_count": null,
      "outputs": [
        {
          "name": "stdout",
          "output_type": "stream",
          "text": [
            "введите фамилию: Горшков\n",
            "введите инициалы: ГИИ\n",
            "введите номер телефона: +79161175045\n",
            "введите адрес: ул. Ленина, 8\n",
            "введите возраст: 45\n",
            "менеджер/секретарь? секретарь\n",
            "введите фамилию начальника: Григорян\n"
          ]
        }
      ]
    },
    {
      "cell_type": "code",
      "source": [
        "a = Manager(surname, initials, phone_number, address, age, department_number, number_of_subordinates)\n",
        "a.data()"
      ],
      "metadata": {
        "colab": {
          "base_uri": "https://localhost:8080/"
        },
        "id": "Ox7KcRWXlrxE",
        "outputId": "c22708bf-456a-475a-dc62-363337f07c88"
      },
      "execution_count": null,
      "outputs": [
        {
          "output_type": "execute_result",
          "data": {
            "text/plain": [
              "['Ромашкин', 'РИВ', '+79199698598', 'ул. Мышкина, 5', 34, 4, 5]"
            ]
          },
          "metadata": {},
          "execution_count": 41
        }
      ]
    },
    {
      "cell_type": "code",
      "source": [
        "b = Secretary(surname, initials, phone_number, address, age, surname_chief)\n",
        "b.data()"
      ],
      "metadata": {
        "colab": {
          "base_uri": "https://localhost:8080/"
        },
        "id": "VyT3B10Xl4PA",
        "outputId": "e071fddf-14a5-46f0-b807-78590de35b64"
      },
      "execution_count": null,
      "outputs": [
        {
          "output_type": "execute_result",
          "data": {
            "text/plain": [
              "['Горшков', 'ГИИ', '+79161175045', 'ул. Ленина, 8', 45, 'Григорян']"
            ]
          },
          "metadata": {},
          "execution_count": 44
        }
      ]
    },
    {
      "cell_type": "markdown",
      "source": [
        "#7\n",
        "Разработайте приложение, в котором опишите базовый класс building. Он хранит этаж, число комнат в квартире, общую площадь квартиры. Три производных класса house-k, house-p, house-m наследуют класс building. Каждый из них хранит надбавку к цене квадратного метра площади, зависящую от материала дома. Производный класс office наследует производные классы house- k, house-p, house-m и хранит наличие лоджии и надбавку, связанную с районом города. Вывести на экран стоимость конкретной квартиры."
      ],
      "metadata": {
        "id": "jHcRlx4D1aXZ"
      }
    },
    {
      "cell_type": "code",
      "source": [
        "class Building():\n",
        "    floors = 0\n",
        "    rooms = 0\n",
        "    total_area = 0\n",
        "    cost = 0\n",
        "    def __init__(self, floor=5, rooms=4, total_area=72, cost=10000):\n",
        "        self.floors = floor\n",
        "        self.rooms = rooms\n",
        "        self.total_area = total_area\n",
        "        self.cost = cost\n",
        "        try:\n",
        "            assert self.floors > 0 and self.rooms > 0 and self.total_area > 0 and self.cost > 0\n",
        "        except:\n",
        "            self.floors = 1\n",
        "            self.rooms = 2\n",
        "            self.total_area = 56\n",
        "            self.cost = 7000\n",
        "\n",
        "\n",
        "class House_k(Building): # k-material group\n",
        "    percent = 0.04\n",
        "    def __init__(self):\n",
        "        self.allowance = Building.cost * self.percent\n",
        "        \n",
        "class House_p(Building): # p-material group\n",
        "    percent = 0.08\n",
        "    def __init__(self):\n",
        "        self.allowance = self.cost * self.percent\n",
        "\n",
        "class House_m(Building): # m-material group\n",
        "    percent = 0.12\n",
        "    allowance = 0\n",
        "    def __init__(self):\n",
        "        self.allowance = Building.cost * self.percent\n",
        "\n",
        "class Office(House_k, House_p, House_m, Building):\n",
        "    allowance_type = 0\n",
        "    def __init__(self, var = 'стандарт', loft = True):\n",
        "        self.kind = var\n",
        "\n",
        "        if self.kind == 'стандарт':\n",
        "            allowance_type = self.cost * 0.02\n",
        "        if self.kind == 'комфорт':\n",
        "            allowance_type = self.cost * 0.05\n",
        "        else:\n",
        "            allowance_type = 0"
      ],
      "metadata": {
        "id": "wl5kwe0Z7XQ8"
      },
      "execution_count": 11,
      "outputs": []
    },
    {
      "cell_type": "code",
      "source": [
        "a = Building()\n",
        "a.cost"
      ],
      "metadata": {
        "colab": {
          "base_uri": "https://localhost:8080/"
        },
        "id": "gCYgwAfr72gn",
        "outputId": "ce90cc6a-c3f0-46cd-ac67-65940572eef4"
      },
      "execution_count": 12,
      "outputs": [
        {
          "output_type": "execute_result",
          "data": {
            "text/plain": [
              "10000"
            ]
          },
          "metadata": {},
          "execution_count": 12
        }
      ]
    },
    {
      "cell_type": "markdown",
      "source": [
        "#8\n",
        "В программе рассчитываются площади треугольника и прямоугольника. С этой целью создается абстрактный класс area, в котором сохраняются две размерности фигуры. В производных классах задайте вид конкретных фигур и возвратите их площади."
      ],
      "metadata": {
        "id": "5H5XIiFOCXZl"
      }
    },
    {
      "cell_type": "code",
      "source": [
        "from math import sqrt\n",
        "\n",
        "class Area:\n",
        "  @abstractmethod\n",
        "  def square_tr():\n",
        "    pass\n",
        "\n",
        "  @abstractmethod\n",
        "  def square_sq():\n",
        "    pass\n",
        "\n",
        "class Triangle(Area):\n",
        "  def __init__(self, a, b, c):\n",
        "    self.a = a\n",
        "    self.b = b\n",
        "    self.c = c\n",
        "\n",
        "  def square_tr(self):\n",
        "    try:\n",
        "      if self.a > 0 and self.b > 0 and self.c > 0:\n",
        "        p = (self.a + self.b + self.c) / 2\n",
        "        return round(sqrt(p*(p-self.a)*(p-self.b)*(p-self.c)), 2)\n",
        "      else:\n",
        "        print('вы ввели невозможные данные')\n",
        "\n",
        "    except ValueError:\n",
        "      print('невозможно посчитать площадь')\n",
        "\n",
        "class Square(Area):\n",
        "  def __init__(self, a, b):\n",
        "    self.a = a\n",
        "    self.b = b\n",
        "\n",
        "  def square_sq(self):\n",
        "    try:\n",
        "      if self.a > 0 and self.b > 0:\n",
        "        return round(self.a * self.b, 2)\n",
        "      else:\n",
        "        print('вы ввели невозможные данные')\n",
        "    except ValueError:\n",
        "      print('невозможно посчитать площадь')   "
      ],
      "metadata": {
        "id": "SprIWT68xxze"
      },
      "execution_count": null,
      "outputs": []
    },
    {
      "cell_type": "code",
      "source": [
        "a = Triangle(10, 5, 6)\n",
        "a.square_tr()"
      ],
      "metadata": {
        "colab": {
          "base_uri": "https://localhost:8080/"
        },
        "id": "sDNtjAtf3Yez",
        "outputId": "acb6904a-b0c6-4c28-d130-8580098a2b54"
      },
      "execution_count": null,
      "outputs": [
        {
          "output_type": "execute_result",
          "data": {
            "text/plain": [
              "11.4"
            ]
          },
          "metadata": {},
          "execution_count": 108
        }
      ]
    },
    {
      "cell_type": "code",
      "source": [
        "a = Triangle(138383, 2, 3)\n",
        "a.square_tr()"
      ],
      "metadata": {
        "colab": {
          "base_uri": "https://localhost:8080/"
        },
        "id": "fM72qEuey9_c",
        "outputId": "5ca82cd0-3dd2-485d-9bfa-231d8c555ed9"
      },
      "execution_count": null,
      "outputs": [
        {
          "output_type": "stream",
          "name": "stdout",
          "text": [
            "невозможно посчитать площадь\n"
          ]
        }
      ]
    },
    {
      "cell_type": "code",
      "source": [
        "b = Square(4, 5)\n",
        "b.square_sq()"
      ],
      "metadata": {
        "colab": {
          "base_uri": "https://localhost:8080/"
        },
        "id": "JHkfSIm74FD6",
        "outputId": "2fb972eb-1d07-4df4-cd1a-55a57da2ae5f"
      },
      "execution_count": null,
      "outputs": [
        {
          "output_type": "execute_result",
          "data": {
            "text/plain": [
              "20"
            ]
          },
          "metadata": {},
          "execution_count": 110
        }
      ]
    },
    {
      "cell_type": "code",
      "source": [
        "b = Square(-4, 5)\n",
        "b.square_sq()"
      ],
      "metadata": {
        "colab": {
          "base_uri": "https://localhost:8080/"
        },
        "id": "6CrUgBdF4OAT",
        "outputId": "046b964a-198f-41ec-c82d-9e78b09d0343"
      },
      "execution_count": null,
      "outputs": [
        {
          "output_type": "stream",
          "name": "stdout",
          "text": [
            "вы ввели невозможные данные\n"
          ]
        }
      ]
    }
  ]
}