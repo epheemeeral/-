{
  "nbformat": 4,
  "nbformat_minor": 0,
  "metadata": {
    "colab": {
      "provenance": [],
      "authorship_tag": "ABX9TyOtGgfz6BqLMvG/JCKtZoYj",
      "include_colab_link": true
    },
    "kernelspec": {
      "name": "python3",
      "display_name": "Python 3"
    },
    "language_info": {
      "name": "python"
    }
  },
  "cells": [
    {
      "cell_type": "markdown",
      "metadata": {
        "id": "view-in-github",
        "colab_type": "text"
      },
      "source": [
        "<a href=\"https://colab.research.google.com/github/epheemeeral/-/blob/main/%D0%B8%D0%BD%D0%B4%D0%B8%D0%B2%D0%B8%D0%B4%D1%83%D0%B0%D0%BB%D1%8C%D0%BD%D0%BE%D0%B5.ipynb\" target=\"_parent\"><img src=\"https://colab.research.google.com/assets/colab-badge.svg\" alt=\"Open In Colab\"/></a>"
      ]
    },
    {
      "cell_type": "code",
      "execution_count": 1,
      "metadata": {
        "colab": {
          "base_uri": "https://localhost:8080/"
        },
        "id": "8H2_yN7DBdqN",
        "outputId": "5ee76c36-1116-4ee0-ed86-4d98e4cfabe3"
      },
      "outputs": [
        {
          "output_type": "stream",
          "name": "stdout",
          "text": [
            "Длительность альбома 'Старая музыка': 13 минут\n",
            "Длительность альбома 'Новая музыка': 12 минут\n"
          ]
        }
      ],
      "source": [
        "class Track:\n",
        "    def __init__(self, title, duration):\n",
        "        self.title = title\n",
        "        self.duration = duration\n",
        "    \n",
        "    def show(self):\n",
        "        print(f\"{self.title} - {self.duration} минут\")\n",
        "        \n",
        "\n",
        "class Album:\n",
        "    def __init__(self, title, artist):\n",
        "        self.title = title\n",
        "        self.artist = artist\n",
        "        self.tracks = []\n",
        "    \n",
        "    def get_tracks(self):\n",
        "        for track in self.tracks:\n",
        "            track.show()\n",
        "    \n",
        "    def add_track(self, track):\n",
        "        self.tracks.append(track)\n",
        "    \n",
        "    def get_duration(self):\n",
        "        duration = 0\n",
        "        for track in self.tracks:\n",
        "            duration += track.duration\n",
        "        print(f\"Длительность альбома '{self.title}': {duration} минут\")\n",
        "        \n",
        "album1 = Album(\"Старая музыка\", \"СССР\")\n",
        "album1.add_track(Track(\"песня1\", 6))\n",
        "album1.add_track(Track(\"песня2\", 3))\n",
        "album1.add_track(Track(\"песня3\", 4))\n",
        "album1.get_duration()\n",
        "\n",
        "album2 = Album(\"Новая музыка\", \"Россия\")\n",
        "album2.add_track(Track(\"песня1\", 5))\n",
        "album2.add_track(Track(\"песня2\", 4))\n",
        "album2.add_track(Track(\"песня3\", 3))\n",
        "album2.get_duration()"
      ]
    }
  ]
}