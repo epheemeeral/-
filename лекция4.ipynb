{
  "nbformat": 4,
  "nbformat_minor": 0,
  "metadata": {
    "colab": {
      "provenance": [],
      "authorship_tag": "ABX9TyNa/kjPaCRPItSzi5zMWzTA",
      "include_colab_link": true
    },
    "kernelspec": {
      "name": "python3",
      "display_name": "Python 3"
    },
    "language_info": {
      "name": "python"
    }
  },
  "cells": [
    {
      "cell_type": "markdown",
      "metadata": {
        "id": "view-in-github",
        "colab_type": "text"
      },
      "source": [
        "<a href=\"https://colab.research.google.com/github/epheemeeral/-/blob/main/%D0%BB%D0%B5%D0%BA%D1%86%D0%B8%D1%8F4.ipynb\" target=\"_parent\"><img src=\"https://colab.research.google.com/assets/colab-badge.svg\" alt=\"Open In Colab\"/></a>"
      ]
    },
    {
      "cell_type": "markdown",
      "source": [
        "#Парадигмы ООП. Полиморфизм\n",
        "\n",
        "Полиморфизм в объектно-ориентированном программировании – это возможность обработки разных типов данных, т. е. принадлежащих к разным классам, с помощью «одно и той же» функции, или метода.\n",
        "\n",
        "Например, два разных класса содержат метод total, однако инструкции каждого предусматривают совершенно разные операции. Так в классе T1 – это прибавление 10 к аргументу, в T2 – подсчет длины строки символов. В зависимости от того, к объекту какого класса применяется метод total, выполняются те или иные инструкции."
      ],
      "metadata": {
        "id": "60aNAFqwy2_l"
      }
    },
    {
      "cell_type": "code",
      "execution_count": 4,
      "metadata": {
        "colab": {
          "base_uri": "https://localhost:8080/"
        },
        "id": "uhTk7kqYyu_1",
        "outputId": "6e1fc53c-d334-4237-cb41-2865d0014625"
      },
      "outputs": [
        {
          "output_type": "stream",
          "name": "stdout",
          "text": [
            "55\n",
            "2\n"
          ]
        }
      ],
      "source": [
        "class T1:\n",
        "     n=10\n",
        "     def total(self, N):\n",
        "          self.total = int(self.n) + int(N)\n",
        "class T2:\n",
        "     def total(self,s):\n",
        "          self.total = len(str(s))\n",
        "t1 = T1()\n",
        "t2 = T2()\n",
        "t1.total(45)\n",
        "t2.total(45)\n",
        "print(t1.total) # Вывод: 55\n",
        "print(t2.total) # Вывод: 2"
      ]
    },
    {
      "cell_type": "code",
      "source": [
        "class Parent:\n",
        "    def some_method(self):\n",
        "        print(\"This is Parent object\")\n",
        "class Child1(Parent):\n",
        "    def some_method(self):\n",
        "        print(\"This is Child1 object\")\n",
        "class Child2(Parent):\n",
        "    def some_method(self):\n",
        "        print(\"This is Child2 object\")\n",
        "def who_am_i(obj):\n",
        "    obj.some_method()\n",
        "p = Parent()\n",
        "c1 = Child1()\n",
        "c2 = Child2()\n",
        "who_am_i(p)\n",
        "who_am_i(c1)\n",
        "who_am_i(c2)\n",
        "print()"
      ],
      "metadata": {
        "id": "i9ynr00EzeFV",
        "outputId": "0b0259ed-a681-4afa-c03d-57242fe6b815",
        "colab": {
          "base_uri": "https://localhost:8080/"
        }
      },
      "execution_count": 5,
      "outputs": [
        {
          "output_type": "stream",
          "name": "stdout",
          "text": [
            "This is Parent object\n",
            "This is Child1 object\n",
            "This is Child2 object\n",
            "\n"
          ]
        }
      ]
    }
  ]
}