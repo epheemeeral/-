{
  "nbformat": 4,
  "nbformat_minor": 0,
  "metadata": {
    "colab": {
      "provenance": [],
      "authorship_tag": "ABX9TyMYaFNcMCQXfC1QIJlmgVcQ",
      "include_colab_link": true
    },
    "kernelspec": {
      "name": "python3",
      "display_name": "Python 3"
    },
    "language_info": {
      "name": "python"
    }
  },
  "cells": [
    {
      "cell_type": "markdown",
      "metadata": {
        "id": "view-in-github",
        "colab_type": "text"
      },
      "source": [
        "<a href=\"https://colab.research.google.com/github/epheemeeral/-/blob/main/%D0%BB%D0%B5%D0%BA%D1%86%D0%B8%D1%8F3.ipynb\" target=\"_parent\"><img src=\"https://colab.research.google.com/assets/colab-badge.svg\" alt=\"Open In Colab\"/></a>"
      ]
    },
    {
      "cell_type": "markdown",
      "source": [
        "#Инкапсуляция"
      ],
      "metadata": {
        "id": "6HDQZdVuKXrN"
      }
    },
    {
      "cell_type": "markdown",
      "source": [
        "#Инкапсуляция — ограничение доступа к составляющим объект компонентам (методам и переменным)."
      ],
      "metadata": {
        "id": "JLw5672jT-Fa"
      }
    },
    {
      "cell_type": "markdown",
      "source": [
        "Пример создания и работы с публичными (public) методами в Python"
      ],
      "metadata": {
        "id": "Lg1szyAiK5PD"
      }
    },
    {
      "cell_type": "code",
      "source": [
        "class Car:\n",
        "  def __init__(self, color):\n",
        " # Объявляем публичное поле color self.color = color\n",
        "    self.color = color\n",
        "\n",
        "# Создаем экземпляр класса Car\n",
        "car = Car('Grey')\n",
        "# Обращаемся к свойству color\n",
        "print(car.color)\n",
        "# Изменяем свойство color\n",
        "car.color = 'Red'\n",
        "print(car.color)"
      ],
      "metadata": {
        "colab": {
          "base_uri": "https://localhost:8080/"
        },
        "id": "xxyqF3ZCK6oY",
        "outputId": "134c3b9d-78cd-404d-d7c6-9dee9de8fb7c"
      },
      "execution_count": 4,
      "outputs": [
        {
          "output_type": "stream",
          "name": "stdout",
          "text": [
            "Grey\n",
            "Red\n"
          ]
        }
      ]
    },
    {
      "cell_type": "markdown",
      "source": [
        "Пример создания и работы с  защищенными (protected) методами в Python"
      ],
      "metadata": {
        "id": "slbcZBCGLoTn"
      }
    },
    {
      "cell_type": "code",
      "source": [
        "class Car:\n",
        "    def __init__(self, color):\n",
        "        self._color = color\n",
        "\n",
        "# Создаем экземпляр класса Car\n",
        "car = Car('Grey')\n",
        "# Обращаемся к свойству color\n",
        "print(car._color)\n",
        "# Изменяем свойство color\n",
        "car._color = 'Red'\n",
        "print(car._color)"
      ],
      "metadata": {
        "colab": {
          "base_uri": "https://localhost:8080/"
        },
        "id": "vrYqDxEDLzLn",
        "outputId": "82c87739-16e8-4177-8134-0fe8428b2987"
      },
      "execution_count": 5,
      "outputs": [
        {
          "output_type": "stream",
          "name": "stdout",
          "text": [
            "Grey\n",
            "Red\n"
          ]
        }
      ]
    },
    {
      "cell_type": "markdown",
      "source": [
        "Часто намеренно скрываются поля самого класса, а не его объектов. Например, если класс имеет счетчик своих объектов, то необходимо исключить возможность его случайного изменения из вне. Рассмотрим пример с таким счетчиком на языке Python."
      ],
      "metadata": {
        "id": "-gqJC8E2MdA6"
      }
    },
    {
      "cell_type": "code",
      "source": [
        "class B:\n",
        "    count = 0\n",
        "    def __init__(self):\n",
        "        B.count += 1\n",
        "    def __del__(self):\n",
        "        B.count -= 1\n",
        "\n",
        "a = B() \n",
        "b = B()\n",
        "\n",
        "print(B.count) # выведет 2\n",
        "del a\n",
        "print(B.count) # выведет 1"
      ],
      "metadata": {
        "colab": {
          "base_uri": "https://localhost:8080/"
        },
        "id": "uppoDLegMdz_",
        "outputId": "e742f530-5f2d-4da9-83d1-9ea96a9adba0"
      },
      "execution_count": 6,
      "outputs": [
        {
          "output_type": "stream",
          "name": "stdout",
          "text": [
            "2\n",
            "1\n"
          ]
        }
      ]
    },
    {
      "cell_type": "markdown",
      "source": [
        "Все работает. Проблема только в том, что если в основной ветке где-то по ошибке или случайно произойдет присвоение полю B.count, то счетчик будет испорчен."
      ],
      "metadata": {
        "id": "EruYfF5zNJ3v"
      }
    },
    {
      "cell_type": "code",
      "source": [
        "B.count -= 1\n",
        "print(B.count) # будет выведен 0, хотя остался объект b"
      ],
      "metadata": {
        "colab": {
          "base_uri": "https://localhost:8080/"
        },
        "id": "BKdyGb4NNAoD",
        "outputId": "3163a442-bc67-4c30-f9fa-14f8119d197b"
      },
      "execution_count": 8,
      "outputs": [
        {
          "output_type": "stream",
          "name": "stdout",
          "text": [
            "0\n"
          ]
        }
      ]
    },
    {
      "cell_type": "code",
      "source": [
        "try:\n",
        "  class B:\n",
        "    __count = 0\n",
        "    def __init__(self):\n",
        "      B.__count += 1\n",
        "    def __del__(self):\n",
        "      B.__count -= 1\n",
        "\n",
        "  a = B()\n",
        "  print(B.__count)\n",
        "\n",
        "except Exception:\n",
        "  print('атрибут __count является защищенным')"
      ],
      "metadata": {
        "colab": {
          "base_uri": "https://localhost:8080/"
        },
        "id": "ZZ0j9OgzOrQI",
        "outputId": "81130d38-127f-4b33-a9c3-42723043f56a"
      },
      "execution_count": 14,
      "outputs": [
        {
          "output_type": "stream",
          "name": "stdout",
          "text": [
            "атрибут __count является защищенным\n"
          ]
        }
      ]
    },
    {
      "cell_type": "markdown",
      "source": [
        "На самом деле сокрытие в Python не настоящее и доступ к счетчику получить все же можем. Но для этого надо написать B._B__count."
      ],
      "metadata": {
        "id": "Xvey3i35RA4P"
      }
    },
    {
      "cell_type": "code",
      "source": [
        "print(B._B__count)"
      ],
      "metadata": {
        "colab": {
          "base_uri": "https://localhost:8080/"
        },
        "id": "OB4AskC8QqHM",
        "outputId": "8e94f70c-aec6-4f98-fec7-f354180ce3b1"
      },
      "execution_count": 15,
      "outputs": [
        {
          "output_type": "stream",
          "name": "stdout",
          "text": [
            "0\n"
          ]
        }
      ]
    },
    {
      "cell_type": "markdown",
      "source": [
        "#Если в классе есть атрибут с двумя первыми подчеркиваниями, то для доступа извне к имени атрибута добавляется имя класса с одним впереди стоящим подчеркиванием. "
      ],
      "metadata": {
        "id": "TfmnmDHeRK5L"
      }
    },
    {
      "cell_type": "markdown",
      "source": [
        "Хорошо, мы защитили поле от случайных изменений. Но как теперь получить его значение? Сделать это можно с помощью добавления метода\n",
        "\n",
        "В данном случае метод qtyObject()) не принимает объект (нет self), поэтому вызывать его надо через класс."
      ],
      "metadata": {
        "id": "20_eSa4uRlke"
      }
    },
    {
      "cell_type": "code",
      "source": [
        "class B:\n",
        "    __count = 0\n",
        "    def __init__(self):\n",
        "        B.__count += 1\n",
        "    def __del__(self):\n",
        "        B.__count -= 1\n",
        "    def qtyObject():\n",
        "        return B.__count\n",
        "\n",
        "a = B() \n",
        "b = B()\n",
        "\n",
        "print(B.qtyObject()) # будет выведено 2"
      ],
      "metadata": {
        "colab": {
          "base_uri": "https://localhost:8080/"
        },
        "id": "wx7jzMCnRMIz",
        "outputId": "783861c1-bbc2-4718-fa98-bf91a34bbef0"
      },
      "execution_count": 17,
      "outputs": [
        {
          "output_type": "stream",
          "name": "stdout",
          "text": [
            "2\n"
          ]
        }
      ]
    },
    {
      "cell_type": "markdown",
      "source": [
        "То же самое с методами. Их можно сделать \"приватными\" с помощью двойного подчеркивания."
      ],
      "metadata": {
        "id": "RMTeHDjDSMx0"
      }
    },
    {
      "cell_type": "code",
      "source": [
        "try:\n",
        "  class DoubleList:\n",
        "    def __init__(self, l):\n",
        "        self.double = DoubleList.__makeDouble(l)\n",
        "    def __makeDouble(old):\n",
        "        new = []\n",
        "        for i in old:\n",
        "            new.append(i)\n",
        "            new.append(i)\n",
        "        return new\n",
        "\n",
        "  nums = DoubleList([1, 3, 4, 6, 12])\n",
        "  print(nums.double)\n",
        "  print(DoubleList.__makeDouble([1,2]))\n",
        "\n",
        "except Exception:\n",
        "  print('метод __makeDouble приватный')"
      ],
      "metadata": {
        "colab": {
          "base_uri": "https://localhost:8080/"
        },
        "id": "hpsjbXY5SaJy",
        "outputId": "df969525-a63b-4423-f3c0-49729411c098"
      },
      "execution_count": 20,
      "outputs": [
        {
          "output_type": "stream",
          "name": "stdout",
          "text": [
            "[1, 1, 3, 3, 4, 4, 6, 6, 12, 12]\n",
            "метод __makeDouble приватный\n"
          ]
        }
      ]
    },
    {
      "cell_type": "code",
      "source": [
        "try:\n",
        "  class DoubleList:\n",
        "    def __init__(self, l):\n",
        "        self.double = DoubleList.__makeDouble(l)\n",
        "    def __makeDouble(old):\n",
        "        new = []\n",
        "        for i in old:\n",
        "            new.append(i)\n",
        "            new.append(i)\n",
        "        return new\n",
        "\n",
        "  nums = DoubleList([1, 3, 4, 6, 12])\n",
        "  print(nums.double)\n",
        "  print(DoubleList._DoubleList__makeDouble([1,2])) #для доступа извне к методу добавляется имя класса с одним впереди стоящим подчеркиванием.\n",
        "\n",
        "except Exception:\n",
        "  print('метод __makeDouble приватный')"
      ],
      "metadata": {
        "colab": {
          "base_uri": "https://localhost:8080/"
        },
        "id": "jT6oSRezTNws",
        "outputId": "be8f398c-cd4c-4c67-b28e-725fbade273d"
      },
      "execution_count": 22,
      "outputs": [
        {
          "output_type": "stream",
          "name": "stdout",
          "text": [
            "[1, 1, 3, 3, 4, 4, 6, 6, 12, 12]\n",
            "[1, 1, 2, 2]\n"
          ]
        }
      ]
    },
    {
      "cell_type": "markdown",
      "source": [
        "#Подведя итоги, можно сказать следующее:\n",
        "– существует три уровня доступа к свойствам/методам класса: public, protected, private;\n",
        "\n",
        "– физически данный механизм ограничения доступа к атрибутам класса в Python реализован слабо, что от части может противоречить одному из главных принципов ООП - инкапсуляции.\n",
        "\n",
        "– существует некоторое соглашение, по которому в Python задать уровень доступа к свойству/методу класса можно с помощью добавления к имени одного (protected) или двух (private) подчеркиваний. Ответственность за соблюдение данного соглашения ложится на плечи программистов."
      ],
      "metadata": {
        "id": "kcNFvYgDTmLs"
      }
    }
  ]
}