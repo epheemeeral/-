{
  "nbformat": 4,
  "nbformat_minor": 0,
  "metadata": {
    "colab": {
      "provenance": [],
      "authorship_tag": "ABX9TyNSUBvWqfdO0ml92TsnyWH5",
      "include_colab_link": true
    },
    "kernelspec": {
      "name": "python3",
      "display_name": "Python 3"
    },
    "language_info": {
      "name": "python"
    }
  },
  "cells": [
    {
      "cell_type": "markdown",
      "metadata": {
        "id": "view-in-github",
        "colab_type": "text"
      },
      "source": [
        "<a href=\"https://colab.research.google.com/github/epheemeeral/-/blob/main/%D0%9F%D0%A04.ipynb\" target=\"_parent\"><img src=\"https://colab.research.google.com/assets/colab-badge.svg\" alt=\"Open In Colab\"/></a>"
      ]
    },
    {
      "cell_type": "markdown",
      "source": [
        "#Полиморфизм\n",
        "#Вариант 20"
      ],
      "metadata": {
        "id": "1UmG83o7dYP7"
      }
    },
    {
      "cell_type": "markdown",
      "source": [
        " Построить класс 1-го уровня с указанными в задании полями и методами:\n",
        "- конструктор,\n",
        "- функция, которая определяет “качество” (Q ) по заданной формуле,\n",
        "- вывод информации об объекте.\n",
        "\n",
        "Построить класс-потомок, который содержит дополнительное поле P и перекрывает функцию качества (Q ), выполняя вычисление по новой формуле (Qp)."
      ],
      "metadata": {
        "id": "lIpovij-dbFJ"
      }
    },
    {
      "cell_type": "markdown",
      "source": [
        "Поля и функция (Q) класса 1-го уровня:\n",
        "\n",
        "Студент:\n",
        "- фамилия,\n",
        "- средний балл,\n",
        "- курс\n",
        "- Q = 0,2 * средний балл*курс\n",
        "\n",
        "Поле и функция (Qp) класса-потомка\n",
        "\n",
        "P: \n",
        "- изучает дисциплины на английском языке\n",
        "- Qp = 2*Q, если Р - истина, иначе Qp = 0,9*Q"
      ],
      "metadata": {
        "id": "rRVIlFnfdpnL"
      }
    },
    {
      "cell_type": "code",
      "source": [
        "try:\n",
        "    surname = input('Введите фамилию: ')\n",
        "    mark = float(input('Введите средний балл: '))\n",
        "    course = int(input('Введите курс: '))\n",
        "    p = input('Изучает ли студент английский? да/нет ').lower()\n",
        "\n",
        "    class Student:\n",
        "        def __init__(self, surname, mark, course):\n",
        "            self.surname = surname\n",
        "            self.mark = mark\n",
        "            self.course = course \n",
        "\n",
        "        def Q(self):\n",
        "            return 0.2 * self.mark * self.course\n",
        "  \n",
        "        def info(self):\n",
        "            return f'{self.surname}, {self.mark}, {self.course}'\n",
        "\n",
        "    class P(Student):\n",
        "        def __init__(self, surname, mark, course, p):\n",
        "            super().__init__(surname, mark, course)\n",
        "            self.p = p\n",
        "      \n",
        "        def Qp(self):\n",
        "            if self.p == 'да':\n",
        "                return 2 * super().Q()         \n",
        "            elif self.p == 'нет':\n",
        "                return 0.9 * super().Q()\n",
        "            else:\n",
        "                print('Вы ввели недопустимые значения')\n",
        "                return None\n",
        "\n",
        "except ValueError:\n",
        "    print('Данные введены неправильно')"
      ],
      "metadata": {
        "colab": {
          "base_uri": "https://localhost:8080/"
        },
        "id": "MAoZiCE-xUgw",
        "outputId": "9f53fd44-0ab3-4ca6-c0b5-75b5770f085f"
      },
      "execution_count": 67,
      "outputs": [
        {
          "name": "stdout",
          "output_type": "stream",
          "text": [
            "Введите фамилию: Иванов\n",
            "Введите средний балл: 3.5\n",
            "Введите курс: 3\n",
            "Изучает ли студент английский? да/нет да\n"
          ]
        }
      ]
    },
    {
      "cell_type": "code",
      "source": [
        "a = Student(surname, mark, course)\n",
        "a.Q()"
      ],
      "metadata": {
        "colab": {
          "base_uri": "https://localhost:8080/"
        },
        "id": "5Xd94da0xeKb",
        "outputId": "c906ae84-5b86-4312-dd91-1be09df9c53e"
      },
      "execution_count": 68,
      "outputs": [
        {
          "output_type": "execute_result",
          "data": {
            "text/plain": [
              "2.1"
            ]
          },
          "metadata": {},
          "execution_count": 68
        }
      ]
    },
    {
      "cell_type": "code",
      "source": [
        "b = P(surname, mark, course, p)\n",
        "b.Qp()"
      ],
      "metadata": {
        "colab": {
          "base_uri": "https://localhost:8080/"
        },
        "id": "saKXRUevxi_m",
        "outputId": "b816c95c-4e05-428b-a5cf-478446aac67c"
      },
      "execution_count": 69,
      "outputs": [
        {
          "output_type": "execute_result",
          "data": {
            "text/plain": [
              "4.2"
            ]
          },
          "metadata": {},
          "execution_count": 69
        }
      ]
    }
  ]
}