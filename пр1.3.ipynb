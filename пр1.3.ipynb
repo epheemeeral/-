{
  "nbformat": 4,
  "nbformat_minor": 0,
  "metadata": {
    "colab": {
      "provenance": [],
      "authorship_tag": "ABX9TyNy32qII5JdzjPoNsUwK8pZ",
      "include_colab_link": true
    },
    "kernelspec": {
      "name": "python3",
      "display_name": "Python 3"
    },
    "language_info": {
      "name": "python"
    }
  },
  "cells": [
    {
      "cell_type": "markdown",
      "metadata": {
        "id": "view-in-github",
        "colab_type": "text"
      },
      "source": [
        "<a href=\"https://colab.research.google.com/github/epheemeeral/-/blob/main/%D0%BF%D1%801.3.ipynb\" target=\"_parent\"><img src=\"https://colab.research.google.com/assets/colab-badge.svg\" alt=\"Open In Colab\"/></a>"
      ]
    },
    {
      "cell_type": "markdown",
      "source": [
        "#1.3.1 \n",
        "Создайте для класса «студент» функцию, которая считает средний балл по трем дисциплинам, оценки по которым вводятся пользователям. Реализуйте программу двумя способами: без использования конструктора __init__ и с ним."
      ],
      "metadata": {
        "id": "cehDYRT0pr3x"
      }
    },
    {
      "cell_type": "code",
      "source": [
        "first = int(input('введите оценку по 1ой дисциплине: '))\n",
        "second = int(input('введите оценку по 2ой дисциплине: '))\n",
        "third = int(input('введите оценку по 3ей дисциплине: '))\n",
        "\n",
        "class Student:\n",
        "\n",
        "  def __init__ (self, a, b, c): \n",
        "        self.a = a\n",
        "        self.b = b\n",
        "        self.c = c\n",
        "  \n",
        "  def average_score(self):\n",
        "    return (self.a + self.b + self.c) / 3\n",
        "\n",
        "x = Student(first, second, third)\n",
        "x.average_score()"
      ],
      "metadata": {
        "colab": {
          "base_uri": "https://localhost:8080/"
        },
        "id": "PWNqW1JGqLk_",
        "outputId": "1f7cae8b-ca66-4ee5-8d0b-eac87f36333a"
      },
      "execution_count": 6,
      "outputs": [
        {
          "name": "stdout",
          "output_type": "stream",
          "text": [
            "введите оценку по 1ой дисциплине: 5\n",
            "введите оценку по 2ой дисциплине: 4\n",
            "введите оценку по 3ей дисциплине: 3\n"
          ]
        },
        {
          "output_type": "execute_result",
          "data": {
            "text/plain": [
              "4.0"
            ]
          },
          "metadata": {},
          "execution_count": 6
        }
      ]
    },
    {
      "cell_type": "code",
      "source": [
        "first = int(input('введите оценку по 1ой дисциплине: '))\n",
        "second = int(input('введите оценку по 2ой дисциплине: '))\n",
        "third = int(input('введите оценку по 3ей дисциплине: '))\n",
        "\n",
        "class Student:\n",
        "  a = 0\n",
        "  b = 0\n",
        "  c = 0\n",
        "\n",
        "  def average_score(self):\n",
        "    return (self.a + self.b + self.c) / 3\n",
        "\n",
        "x = Student()\n",
        "x.a = first\n",
        "x.b = second\n",
        "x.c = third\n",
        "x.average_score()"
      ],
      "metadata": {
        "colab": {
          "base_uri": "https://localhost:8080/"
        },
        "id": "hs0d2vMpkKUK",
        "outputId": "33adc01f-8635-40fc-f64d-c28826f2f205"
      },
      "execution_count": 12,
      "outputs": [
        {
          "name": "stdout",
          "output_type": "stream",
          "text": [
            "введите оценку по 1ой дисциплине: 5\n",
            "введите оценку по 2ой дисциплине: 4\n",
            "введите оценку по 3ей дисциплине: 3\n"
          ]
        },
        {
          "output_type": "execute_result",
          "data": {
            "text/plain": [
              "4.0"
            ]
          },
          "metadata": {},
          "execution_count": 12
        }
      ]
    },
    {
      "cell_type": "markdown",
      "source": [
        "#1.3.2 \n",
        "Создайте функцию, которая считает и выводит в файл заработную плату сотрудника склада в зависимости от количества отработанных дней в месяце. Оклад является защищаемым атрибутом класса «сотрудник»."
      ],
      "metadata": {
        "id": "aPe-WlD2pwQB"
      }
    },
    {
      "cell_type": "code",
      "source": [
        "# зп = оклад / количество рабочих дней в месяце * реальное количество отработанных дней\n",
        "\n",
        "oklad = int(input('введите оклад: '))\n",
        "work_days = int(input('введите количество рабочих дней в месяце: '))\n",
        "real_days = int(input('введите количество отработанных дней: '))\n",
        "\n",
        "class Employee:\n",
        "\n",
        "  def __init__ (self, oklad, work_days, real_days):\n",
        "    self.__oklad = oklad # оклад - защищаемый атрибут класса \"сотрудник\"\n",
        "    self.work_days = work_days\n",
        "    self.real_days = real_days\n",
        "\n",
        "  def final_salary(self):\n",
        "    a = open('salary', 'w')\n",
        "    a.write('зарплата = ' + str(self.__oklad / self.work_days * self.real_days))\n",
        "    a.close()\n",
        "    return self.__oklad / self.work_days * self.real_days\n",
        "\n",
        "x = Employee(oklad, work_days, real_days)\n",
        "x.final_salary()"
      ],
      "metadata": {
        "colab": {
          "base_uri": "https://localhost:8080/"
        },
        "id": "7wryupA3uoxf",
        "outputId": "5b622136-8055-4df8-df9f-e810e5f2d328"
      },
      "execution_count": 15,
      "outputs": [
        {
          "name": "stdout",
          "output_type": "stream",
          "text": [
            "введите оклад: 30000\n",
            "введите количество рабочих дней в месяце: 20\n",
            "введите количество отработанных дней: 18\n"
          ]
        },
        {
          "output_type": "execute_result",
          "data": {
            "text/plain": [
              "27000.0"
            ]
          },
          "metadata": {},
          "execution_count": 15
        }
      ]
    },
    {
      "cell_type": "markdown",
      "source": [
        "#1.3.3 \n",
        "Используя результат предыдущего задания, создайте функцию начисления премии сотруднику, вычисляемую как 1% от уровня заработной платы."
      ],
      "metadata": {
        "id": "Bb-1KZ1lpzxC"
      }
    },
    {
      "cell_type": "code",
      "source": [
        "# зп = оклад / количество рабочих дней в месяце * реальное количество отработанных дней\n",
        "\n",
        "oklad = int(input('введите оклад: '))\n",
        "work_days = int(input('введите количество рабочих дней в месяце: '))\n",
        "real_days = int(input('введите количество отработанных дней: '))\n",
        "\n",
        "class Employee:\n",
        "\n",
        "  def __init__ (self, oklad, work_days, real_days):\n",
        "    self.__oklad = oklad # оклад - защищаемый атрибут класса \"сотрудник\"\n",
        "    self.work_days = work_days\n",
        "    self.real_days = real_days\n",
        "\n",
        "  def final_salary(self):\n",
        "    a = open('salary', 'w')\n",
        "    a.write('зарплата = ' + str(self.__oklad / self.work_days * self.real_days))\n",
        "    a.close()\n",
        "    return self.__oklad / self.work_days * self.real_days\n",
        "\n",
        "  def prize(self):\n",
        "    prize = self.__oklad / self.work_days * self.real_days * 0.01\n",
        "    return self.__oklad / self.work_days * self.real_days + prize\n",
        "\n",
        "x = Employee(oklad, work_days, real_days)\n",
        "x.final_salary()"
      ],
      "metadata": {
        "colab": {
          "base_uri": "https://localhost:8080/"
        },
        "id": "Q9rhn0s6qE5v",
        "outputId": "94b4879b-775b-4cfc-a47e-7788f0028214"
      },
      "execution_count": 18,
      "outputs": [
        {
          "name": "stdout",
          "output_type": "stream",
          "text": [
            "введите оклад: 30000\n",
            "введите количество рабочих дней в месяце: 20\n",
            "введите количество отработанных дней: 18\n"
          ]
        },
        {
          "output_type": "execute_result",
          "data": {
            "text/plain": [
              "27000.0"
            ]
          },
          "metadata": {},
          "execution_count": 18
        }
      ]
    },
    {
      "cell_type": "code",
      "source": [
        "x.prize()"
      ],
      "metadata": {
        "colab": {
          "base_uri": "https://localhost:8080/"
        },
        "id": "fmqFlR5eqj9e",
        "outputId": "0299cfdc-1890-4775-c4ad-cd2a8c7f0ce5"
      },
      "execution_count": 20,
      "outputs": [
        {
          "output_type": "execute_result",
          "data": {
            "text/plain": [
              "27270.0"
            ]
          },
          "metadata": {},
          "execution_count": 20
        }
      ]
    },
    {
      "cell_type": "markdown",
      "source": [
        "#1.3.4 \n",
        "Модифицируйте предыдущую программу, позволяющую вычислять заработную плату, премию для сотрудников и определять величину общего фонда заработной платы как сумму заработной платы и премий, деленную на коэффициент 0,7. Данные о сотрудниках вводятся через цикл while и записываются в соответствующий файл .txt или .xlsx."
      ],
      "metadata": {
        "id": "7R5Orp58p4Hp"
      }
    },
    {
      "cell_type": "code",
      "source": [
        "class Employee:\n",
        "    res = 0\n",
        "\n",
        "    def __init__(self):\n",
        "        self.__oklad = float(input('введите зп за месяц: '))\n",
        "        self.work_days = int(input('введите количество рабочих дней в месяц: '))\n",
        "        self.real_days = int(input('введите количество отработанных дней: '))\n",
        "\n",
        "    def final_salary(self):\n",
        "      a = open('salary', 'w')\n",
        "      a.write('зарплата = ' + str(self.__oklad / self.work_days * self.real_days))\n",
        "      a.close()\n",
        "      return self.__oklad / self.work_days * self.real_days\n",
        "\n",
        "    def prize(self):\n",
        "      prize = self.__oklad / self.work_days * self.real_days * 0.01\n",
        "      return self.__oklad / self.work_days * self.real_days + prize        \n",
        "\n",
        "quan = int(input('введите количество сотрудников: '))\n",
        "x = 0\n",
        "open('salary_funds', 'w')\n",
        "while x < quan:\n",
        "    x += 1\n",
        "    f = Employee()\n",
        "    res = f.prize()\n",
        "    listing = open('salary_funds', 'a')\n",
        "    listing.write(str(res) + '\\n')\n",
        "    listing.close()\n",
        "    del f\n",
        "\n",
        "def salary_f(filename):\n",
        "    resource = open(filename, 'r')\n",
        "    a = resource.read()\n",
        "    open(filename).read().split('\\n')\n",
        "\n",
        "    result = []\n",
        "    with open(filename) as f:\n",
        "        for line in f:\n",
        "            result.append([float(x) for x in line.split()])\n",
        "\n",
        "    res1 = []\n",
        "    for x in result:\n",
        "        for y in x:\n",
        "            res1.append(y)\n",
        "    general_fund = sum(res1) / 0.7\n",
        "\n",
        "    listing = open('salary_funds', 'a')\n",
        "    listing.write('общий фонд зп = ' + str(general_fund) + '\\n')\n",
        "    listing.close()\n",
        "    return general_fund\n",
        "\n",
        "test = salary_f('salary_funds')\n",
        "\n",
        "print('общий фонд зп = ', test)"
      ],
      "metadata": {
        "colab": {
          "base_uri": "https://localhost:8080/"
        },
        "id": "bBI4wtV8eCea",
        "outputId": "789892b5-d857-470f-9ec6-65f680e3d5bb"
      },
      "execution_count": 52,
      "outputs": [
        {
          "output_type": "stream",
          "name": "stdout",
          "text": [
            "введите количество сотрудников: 3\n",
            "введите зп за месяц: 30000\n",
            "введите количество рабочих дней в месяц: 30\n",
            "введите количество отработанных дней: 20\n",
            "введите зп за месяц: 40000\n",
            "введите количество рабочих дней в месяц: 20\n",
            "введите количество отработанных дней: 10\n",
            "введите зп за месяц: 35000\n",
            "введите количество рабочих дней в месяц: 20\n",
            "введите количество отработанных дней: 10\n",
            "общий фонд зп =  82964.28571428572\n"
          ]
        }
      ]
    },
    {
      "cell_type": "markdown",
      "source": [
        "#1.3.5 \n",
        "Используя технологию перегрузки операторов, измените __truediv__(деление) так, чтобы числителем был знаменатель и наоборот. Аналогичные процедуры осуществите для операторов __floordiv__(целочисленное деление), __mod__(остаток от деления). Числа вводят пользователи. Предусмотрите отработку исключений."
      ],
      "metadata": {
        "id": "7m4_IC5ep6HS"
      }
    },
    {
      "cell_type": "code",
      "source": [
        "class A():\n",
        "    def __init__(self, x):\n",
        "        self.r = float(x) # self.r - изначально числитель\n",
        "\n",
        "    def __truediv__(self, y):\n",
        "        return y / self.r \n",
        "\n",
        "    def __floordiv__(self, z):\n",
        "        return int(z // self.r)\n",
        "\n",
        "    def __mod__(self, p):\n",
        "        return int(p % self.r)\n",
        "    \n",
        "\n",
        "a = A(int(input('введите изначальный числитель: ')))\n",
        "b = int(input('введите изначальный знаменатель: '))\n",
        "print('результат деления наоборот: ', a / b) \n",
        "print('результат целочисленного деления наоборот: ',a // b) \n",
        "print('остаток от деления наоборот: ', a % b) "
      ],
      "metadata": {
        "colab": {
          "base_uri": "https://localhost:8080/"
        },
        "id": "ZlhwmQdjZai5",
        "outputId": "af6b29a5-14a1-4e19-c341-84f1b6a78acf"
      },
      "execution_count": null,
      "outputs": [
        {
          "output_type": "stream",
          "name": "stdout",
          "text": [
            "введите изначальный числитель: 10\n",
            "введите изначальный знаменатель: 100\n",
            "результат деления наоборот:  10.0\n",
            "результат целочисленного деления наоборот:  10\n",
            "остаток от деления наоборот:  0\n"
          ]
        }
      ]
    }
  ]
}