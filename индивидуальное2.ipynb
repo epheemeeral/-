{
  "nbformat": 4,
  "nbformat_minor": 0,
  "metadata": {
    "colab": {
      "provenance": [],
      "authorship_tag": "ABX9TyNuqwJQZbfTNWxuW8QxoNyA",
      "include_colab_link": true
    },
    "kernelspec": {
      "name": "python3",
      "display_name": "Python 3"
    },
    "language_info": {
      "name": "python"
    }
  },
  "cells": [
    {
      "cell_type": "markdown",
      "metadata": {
        "id": "view-in-github",
        "colab_type": "text"
      },
      "source": [
        "<a href=\"https://colab.research.google.com/github/epheemeeral/-/blob/main/%D0%B8%D0%BD%D0%B4%D0%B8%D0%B2%D0%B8%D0%B4%D1%83%D0%B0%D0%BB%D1%8C%D0%BD%D0%BE%D0%B52.ipynb\" target=\"_parent\"><img src=\"https://colab.research.google.com/assets/colab-badge.svg\" alt=\"Open In Colab\"/></a>"
      ]
    },
    {
      "cell_type": "code",
      "source": [
        "class Animal:\n",
        "    def __init__(self, name, weight, sound):\n",
        "        self.name = name\n",
        "        self.weight = weight\n",
        "        self.sound = sound\n",
        "        \n",
        "    def feed(self):\n",
        "        print(f\"{self.name} накормлен(а)\")\n",
        "\n",
        "    def drink(self):\n",
        "      print(f\"{self.name} напоен(a)\")\n",
        "        \n",
        "class Cow(Animal):\n",
        "    def __init__(self, name, weight):\n",
        "        super().__init__(name, weight, \"Мууу\")\n",
        "        \n",
        "    def milk(self):\n",
        "        print(f\"{self.name} подоена\")\n",
        "        \n",
        "class Goat(Animal):\n",
        "    def __init__(self, name, weight):\n",
        "        super().__init__(name, weight, \"Меее\")\n",
        "        \n",
        "    def milk(self):\n",
        "        print(f\"{self.name} подоена\")\n",
        "        \n",
        "class Sheep(Animal):\n",
        "    def __init__(self, name, weight):\n",
        "        super().__init__(name, weight, \"Беее\")\n",
        "        \n",
        "    def cut(self):\n",
        "        print(f\"{self.name} пострижен(а)\")\n",
        "        \n",
        "class Chicken(Animal):\n",
        "    def __init__(self, name, weight):\n",
        "        super().__init__(name, weight, \"Ко-ко-ко\")\n",
        "        \n",
        "    def collect_eggs(self):\n",
        "        print(f\"{self.name} снесла яйцо\")\n",
        "        \n",
        "class Duck(Animal):\n",
        "    def __init__(self, name, weight):\n",
        "        super().__init__(name, weight, \"Кря-кря\")\n",
        "        \n",
        "    def collect_eggs(self):\n",
        "        print(f\"{self.name} снесла яйцо\")\n",
        "        \n",
        "class Goose(Animal):\n",
        "    def __init__(self, name, weight):\n",
        "        super().__init__(name, weight, \"Га-га-га\")\n",
        "        \n",
        "    def collect_eggs(self):\n",
        "        print(f\"{self.name} снесла яйцо\")\n",
        "\n",
        "animals = [Cow(\"Манька\", 500), Goat(\"Рога\", 50), Goat(\"Копыта\", 45), Sheep(\"Барашек\", 60), Sheep(\"Кудрявый\", 55), Chicken(\"Ко-Ко\", 3), Chicken(\"Кукареку\", 3.5), Duck(\"Кряква\", 2), Goose(\"Серый\", 4), Goose(\"Белый\", 3.5)]\n",
        "\n",
        "total_weight = 0\n",
        "for animal in animals:\n",
        "  total_weight += animal.weight \n",
        "print('общий вес всех животных:', total_weight)\n",
        "\n",
        "heaviest_animal = max(animals, key=lambda animal: animal.weight)\n",
        "print(f\"Самое тяжелое животное:\", heaviest_animal.name)\n"
      ],
      "metadata": {
        "colab": {
          "base_uri": "https://localhost:8080/"
        },
        "id": "Jv_nznFtb9Lk",
        "outputId": "15c57e1f-30cc-41d5-c0ac-486c0125f685"
      },
      "execution_count": 16,
      "outputs": [
        {
          "output_type": "stream",
          "name": "stdout",
          "text": [
            "общий вес всех животных: 726.0\n",
            "Самое тяжелое животное: Манька\n"
          ]
        }
      ]
    }
  ]
}